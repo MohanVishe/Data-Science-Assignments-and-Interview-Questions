{
  "cells": [
    {
      "cell_type": "markdown",
      "metadata": {
        "id": "view-in-github",
        "colab_type": "text"
      },
      "source": [
        "<a href=\"https://colab.research.google.com/github/MohanVishe/Python-Basic-Assignments/blob/main/Assignment_11.ipynb\" target=\"_parent\"><img src=\"https://colab.research.google.com/assets/colab-badge.svg\" alt=\"Open In Colab\"/></a>"
      ]
    },
    {
      "cell_type": "markdown",
      "metadata": {
        "id": "jSYm_gKos3lO"
      },
      "source": [
        "###   <font color='red'>1. What is the role of the 'else' block in a try-except statement? Provide an example scenario where it would be useful.</font>"
      ]
    },
    {
      "cell_type": "code",
      "execution_count": null,
      "metadata": {
        "id": "sQATJAoSs3lQ"
      },
      "outputs": [],
      "source": [
        "# \"else\" block is optional part which will be after \"try\" and \"except\" block\n",
        "# It specify code block that should be executed when there is no exception raised in \"try\" block"
      ]
    },
    {
      "cell_type": "code",
      "execution_count": null,
      "metadata": {
        "id": "B1FALLEEs3lQ"
      },
      "outputs": [],
      "source": [
        "try:\n",
        "    f=open(\"scenario.txt\",\"r\")\n",
        "except:\n",
        "    print(\"Some Error occured check file\")\n",
        "else:\n",
        "    f.read()\n",
        "\n",
        "\n",
        "# In this case we could use else block\n",
        "# we also used else block to give output that the code has run without errors."
      ]
    },
    {
      "cell_type": "markdown",
      "metadata": {
        "id": "x2sJlrY-s3lQ"
      },
      "source": [
        "###   <font color='red'>2. Can a try-except block be nested inside another try-except block? Explain with an example.</font>"
      ]
    },
    {
      "cell_type": "code",
      "execution_count": null,
      "metadata": {
        "id": "yZ2b_Ibms3lR"
      },
      "outputs": [],
      "source": [
        "# Yes , try-except block can be nested inside another try-except block"
      ]
    },
    {
      "cell_type": "code",
      "execution_count": null,
      "metadata": {
        "id": "2whed3eJs3lR"
      },
      "outputs": [],
      "source": [
        "try :\n",
        "    a= input(\"Enter A number\")\n",
        "    b= input(\"Enter a number\")\n",
        "    a=int(a)\n",
        "    b=int(b)\n",
        "    try:\n",
        "      print(\"Division is \",a/b)\n",
        "    except :\n",
        "        print(\"Enter 2nd value should be non zero\")\n",
        "except :\n",
        "    print(\"You have not Enter The number\")"
      ]
    },
    {
      "cell_type": "markdown",
      "metadata": {
        "id": "dmiBY0M7s3lR"
      },
      "source": [
        "###   <font color='red'>3. How can you create a custom exception class in Python? Provide an example that demonstrates its usage.</font>"
      ]
    },
    {
      "cell_type": "code",
      "execution_count": null,
      "metadata": {
        "id": "ZoY1sj03s3lR"
      },
      "outputs": [],
      "source": [
        "# To create custom exception class we have to define new class\n",
        "# The class should inherits from built in \"Exception\" class or its subclass\n",
        "# We can define our own exception that raise and cought like any other exception"
      ]
    },
    {
      "cell_type": "code",
      "execution_count": null,
      "metadata": {
        "id": "tCPjXnYWs3lR"
      },
      "outputs": [],
      "source": [
        "class GreaterThanNineError(Exception):\n",
        "    pass"
      ]
    },
    {
      "cell_type": "code",
      "execution_count": null,
      "metadata": {
        "id": "gnKrkE28s3lR"
      },
      "outputs": [],
      "source": [
        "try:\n",
        "    a=input(\"Enter a number less than 10 \")\n",
        "    b=input(\"Enter a number \")\n",
        "    a=int(a)\n",
        "    b=int(b)\n",
        "\n",
        "    if a >=10:\n",
        "        raise GreaterThanNineError\n",
        "    print(\"difference is\",a-b)\n",
        "    print(\"Division is \",a/b)\n",
        "\n",
        "except GreaterThanNineError:\n",
        "    print(\"The first value should be less than 10\")\n",
        "except ZeroDivisionError :\n",
        "    print(\"The second value should not be zero\")\n",
        "except ValueError:\n",
        "    print(\"The value should be number\")\n",
        "except :\n",
        "    print(\"Any Error occured\")"
      ]
    },
    {
      "cell_type": "markdown",
      "metadata": {
        "id": "K_bGh57es3lS"
      },
      "source": [
        "###   <font color='red'>4. What are some common exceptions that are built-in to Python?</font>"
      ]
    },
    {
      "cell_type": "code",
      "execution_count": null,
      "metadata": {
        "id": "W05vGJ3Cs3lS"
      },
      "outputs": [],
      "source": [
        "# RuntimeError: an error occurs that doesn't belong to any other category.\n",
        "\n",
        "# KeyboardInterrupt: the user interrupts the execution of the program (typically by pressing Ctrl+C)\n",
        "\n",
        "# SyntaxError: there is a syntax error in the code.\n",
        "\n",
        "# TypeError: an operation or function is performed on an object of inappropriate type.\n",
        "\n",
        "# ValueError: a function receives an argument of the correct type but an inappropriate value.\n",
        "\n",
        "# ZeroDivisionError: Raised when division or modulo operation is performed with a divisor of zero."
      ]
    },
    {
      "cell_type": "markdown",
      "metadata": {
        "id": "WCaVUIeCs3lS"
      },
      "source": [
        "###   <font color='red'>5. What is logging in Python, and why is it important in software development?</font>"
      ]
    },
    {
      "cell_type": "code",
      "execution_count": null,
      "metadata": {
        "id": "15GLSQtJs3lS"
      },
      "outputs": [],
      "source": [
        "# The process of recording and storing information about the events\n",
        "#  and activities that occurs during the execution of program is called logging\n",
        "# Generates log message which gives insights to the behavior and state of software"
      ]
    },
    {
      "cell_type": "code",
      "execution_count": null,
      "metadata": {
        "id": "KzAF-tpjs3lS"
      },
      "outputs": [],
      "source": [
        "# Logging is important in software development\n",
        "\n",
        "# 1) Debugging: helps to tarck source of errors in program. By logging sequence of events can lead to\n",
        "#              error, So we can often identify the line of code where error occurred.\n",
        "\n",
        "# 2) Trubleshooting: It can help us troubleshoot problems with program.\n",
        "#              By Values of variables and data, we can track down source of the problem\n",
        "#              and  identify the solution\n",
        "\n",
        "# 3) Monitoring: Logging can help us to monitor performance of the program.\n",
        "#              By logging number of request,the time takes to process the requests and other metrics\n",
        "#              So we can track health of the program and identify potential problems\n",
        "\n",
        "# 4)Historical Analysis and Forensics: Allowing developers to investigate past incidents,\n",
        "#                understand the sequence of events, and gain insights into the root causes of problems.\n",
        "#                It facilitates post-mortem analysis and\n",
        "#                helps in preventing similar issues in the future\n",
        "\n",
        "# 5)Error Reporting :Easier to generate error reports that include relevant details,\n",
        "#                    such as the error message, stack trace, and contextual information."
      ]
    },
    {
      "cell_type": "markdown",
      "metadata": {
        "id": "OEEwWy7bs3lS"
      },
      "source": [
        "###   <font color='red'>6. Explain the purpose of log levels in Python logging and provide examples of when each log level would be appropriate.</font>"
      ]
    },
    {
      "cell_type": "code",
      "execution_count": null,
      "metadata": {
        "id": "qLbeybVys3lT"
      },
      "outputs": [],
      "source": [
        "# Log levels in Python logging provide a way to categorize log messages based\n",
        "# on their importance or severity. Each log level corresponds to a specific level of severity,\n",
        "# allowing developers to control which log messages are emitted\n",
        "# based on the desired level of detail or urgency. Python's logging module defines\n",
        "# several standard log levels, including the following:"
      ]
    },
    {
      "cell_type": "code",
      "execution_count": null,
      "metadata": {
        "id": "t03Ud7L_s3lT",
        "outputId": "e7e13197-beef-407d-ac7d-405f4f981a7d"
      },
      "outputs": [
        {
          "name": "stderr",
          "output_type": "stream",
          "text": [
            "DEBUG:root:The variables are 10 and 20\n"
          ]
        },
        {
          "data": {
            "text/plain": [
              "200"
            ]
          },
          "execution_count": 1,
          "metadata": {},
          "output_type": "execute_result"
        }
      ],
      "source": [
        "# DEBUG: The lowest log level. Detailed information, typically of interest only when diagnosing problems.\n",
        "#    It is used for detailed information that is typically only useful for debugging purposes.\n",
        "#    Example usage: Printing variable values or detailed function execution information during development and debugging.\n",
        "import logging\n",
        "logging.basicConfig(level=logging.DEBUG)\n",
        "\n",
        "def multiply(x,y):\n",
        "    logging.debug(\"The variables are %s and %s\",x,y)\n",
        "    return x*y\n",
        "\n",
        "multiply(10,20)"
      ]
    },
    {
      "cell_type": "code",
      "execution_count": null,
      "metadata": {
        "id": "AnT1HxZUs3lT",
        "outputId": "4c60bd5b-5099-4330-8a0e-95df4856ee29"
      },
      "outputs": [
        {
          "name": "stderr",
          "output_type": "stream",
          "text": [
            "INFO:root:The Mohan closed the program\n"
          ]
        }
      ],
      "source": [
        "# INFO:  Confirmation that things are working as expected.\n",
        "#   This level is used for general information about the program's progress or significant events.\n",
        "#   It provides informative messages that are typically useful for tracking the program's execution.\n",
        "#   Example usage: Logging when a service or module starts or stops, or recording important milestones in the program's execution.\n",
        "\n",
        "import logging\n",
        "logging.basicConfig(level=logging.INFO)\n",
        "\n",
        "def closed(user):\n",
        "    logging.info(\"The %s closed the program\",user)\n",
        "\n",
        "closed(\"Mohan\")\n",
        "logging.shutdown()\n"
      ]
    },
    {
      "cell_type": "code",
      "execution_count": null,
      "metadata": {
        "id": "wB8GaPE6s3lT",
        "outputId": "53cac36b-da4c-453a-8138-08c4c7752753"
      },
      "outputs": [
        {
          "name": "stderr",
          "output_type": "stream",
          "text": [
            "WARNING:root:large length of the string will affect search accuracy\n"
          ]
        }
      ],
      "source": [
        "# WARNING: An indication that something unexpected happened, or may happen in the future (e.g. ‘disk space low’).\n",
        "#   The software is still working as expected\n",
        "#   This level indicates potential issues or unexpected situations that are not necessarily errors but might require attention.\n",
        "#   It represents conditions that may cause problems in the future.\n",
        "#   Example usage: Logging when deprecated features or configurations are used, or when an operation takes longer than expected.\n",
        "\n",
        "import logging\n",
        "logging.basicConfig(level=logging.WARNING)\n",
        "\n",
        "def search(string):\n",
        "    if len(string)>30:\n",
        "        logging.warning(\"large length of the string will affect search accuracy\")\n",
        "\n",
        "search(\"\"\"An indication that something unexpected happened, or may happen in the future (e.g. ‘disk space low’).\n",
        "The software is still working as expected\"\"\")"
      ]
    },
    {
      "cell_type": "code",
      "execution_count": null,
      "metadata": {
        "id": "J5Z_VTyAs3lU",
        "outputId": "4975cfd9-28bd-4f25-95e0-9fad386da618"
      },
      "outputs": [
        {
          "name": "stderr",
          "output_type": "stream",
          "text": [
            "ERROR:root:Divide by zero is not possible\n"
          ]
        }
      ],
      "source": [
        "# ERROR: More serious problem that prevented the software from performing a function.\n",
        "#   This level indicates errors that prevent the program from functioning properly or completing a specific task.\n",
        "#   It represents conditions that should be addressed or fixed.\n",
        "#   Example usage: Logging when a critical operation fails, or when an exception is caught and handled in the code.\n",
        "\n",
        "import logging\n",
        "logging.basicConfig(level=logging.ERROR)\n",
        "\n",
        "def div(a,b):\n",
        "    try:\n",
        "        return a/b\n",
        "    except ZeroDivisionError:\n",
        "        logging.error(\"Divide by zero is not possible\")\n",
        "\n",
        "div(10,0)"
      ]
    },
    {
      "cell_type": "code",
      "execution_count": null,
      "metadata": {
        "id": "CycvXMMas3lU",
        "outputId": "b22105b9-e586-458f-9f44-ab4f6286caee"
      },
      "outputs": [
        {
          "name": "stderr",
          "output_type": "stream",
          "text": [
            "CRITICAL:root:The system can failure, load on components\n"
          ]
        }
      ],
      "source": [
        "# CRITICAL: The highest log level. A very serious error, indicating that the program itself may be unable to continue running.\n",
        "#    It indicates severe errors or critical failures that may result in the termination of the program or\n",
        "#    significant loss of functionality. Example usage: Logging when an unrecoverable error occurs,\n",
        "#    or when an essential component or resource is unavailable.\n",
        "\n",
        "import logging\n",
        "\n",
        "logging.basicConfig(level=logging.CRITICAL)\n",
        "\n",
        "def system_task(a):\n",
        "    if a>100:\n",
        "        logging.critical(\"The system can failure, load on components\")\n",
        "\n",
        "system_task(300)\n"
      ]
    },
    {
      "cell_type": "markdown",
      "metadata": {
        "id": "LztvFpTIs3lU"
      },
      "source": [
        "###   <font color='red'>7. What are log formatters in Python logging, and how can you customise the log message format using formatters?</font>"
      ]
    },
    {
      "cell_type": "code",
      "execution_count": null,
      "metadata": {
        "id": "F6iLpcWXs3lU"
      },
      "outputs": [],
      "source": [
        "# log formatters define the structure and content of log massages\n",
        "# Specify the format in which log records are presented\n",
        "# It  also includes information such as time stamp,log level. module name, log message."
      ]
    },
    {
      "cell_type": "code",
      "execution_count": 5,
      "metadata": {
        "colab": {
          "base_uri": "https://localhost:8080/"
        },
        "id": "42yrabzBs3lU",
        "outputId": "85fd2963-be6f-400f-e75c-4ee87a7537e7"
      },
      "outputs": [
        {
          "output_type": "stream",
          "name": "stderr",
          "text": [
            "2023-06-27 16:39:58,999 , WARNING , This is warning message\n",
            "2023-06-27 16:39:58,999 , WARNING , This is warning message\n",
            "2023-06-27 16:39:58,999 , WARNING , This is warning message\n",
            "WARNING:Save:This is warning message\n"
          ]
        }
      ],
      "source": [
        "#Steps\n",
        "#1. Import module\n",
        "import logging\n",
        "\n",
        "#2. Formatter\n",
        "\n",
        "# %(asctime)s : Shows timestap of log record\n",
        "# %(levelname)s : Shows log level\n",
        "# %(message)s: shows the log message\n",
        "\n",
        "formatter=logging.Formatter(\"%(asctime)s , %(levelname)s , %(message)s\")\n",
        "\n",
        "# 3.Handler :\n",
        "# we can choose different handlers depending on where you want the log messages to be outputted,\n",
        "# such as a file or a network socket.\n",
        "\n",
        "\n",
        "handler = logging.StreamHandler()\n",
        "handler.setFormatter(formatter)\n",
        "\n",
        "# 4. Create a Logger:\n",
        "# WE create logger naem \"save\" add \"handler\" and set log level\n",
        "logger = logging.getLogger('Save')\n",
        "logger.addHandler(handler)\n",
        "logger.setLevel(logging.INFO)\n",
        "\n",
        "# logging Message\n",
        "\n",
        "logger.warning(\"This is warning message\")\n"
      ]
    },
    {
      "cell_type": "code",
      "execution_count": 2,
      "metadata": {
        "colab": {
          "base_uri": "https://localhost:8080/"
        },
        "id": "X-AETzF4s3lU",
        "outputId": "a5e9964c-86d8-499f-c8f0-0f88a647b213"
      },
      "outputs": [
        {
          "output_type": "stream",
          "name": "stderr",
          "text": [
            "WARNING:root:This is warning message\n"
          ]
        }
      ],
      "source": [
        "import logging\n",
        "logging.basicConfig(filename=\"abc.log\",format=\"%(asctime)s,%(levelname)s,%(name)s,%(message)s\"\n",
        ",level=logging.INFO)\n",
        "logging.warning(\"This is warning message\")"
      ]
    },
    {
      "cell_type": "markdown",
      "metadata": {
        "id": "Kan1nMfos3lU"
      },
      "source": [
        "###   <font color='red'>8. How can you set up logging to capture log messages from multiple modules or classes in a Python application?</font>\n"
      ]
    },
    {
      "cell_type": "code",
      "execution_count": 1,
      "metadata": {
        "colab": {
          "base_uri": "https://localhost:8080/"
        },
        "id": "yDOCAf7ws3lV",
        "outputId": "9c281361-9c55-4be3-88a4-622896a09d30"
      },
      "outputs": [
        {
          "output_type": "stream",
          "name": "stderr",
          "text": [
            "2023-06-27 16:38:44,384 - INFO - an informational message from module_a.\n",
            "INFO:module_a:an informational message from module_a.\n",
            "2023-06-27 16:38:44,391 - WARNING - a warning message from module_b.\n",
            "WARNING:module_b:a warning message from module_b.\n"
          ]
        }
      ],
      "source": [
        "# We can setupa logging configuration that allows us to collect\n",
        "# and handle logs from different parts of our codebase.\n",
        "\n",
        "# a)Import the logging module.\n",
        "import logging\n",
        "\n",
        "# b)Create a logger for each module or class that you want to log messages from.\n",
        "logging.basicConfig(level=logging.DEBUG)\n",
        "\n",
        "\n",
        "# c)Set the logging level for each logger.\n",
        "logger_a = logging.getLogger('module_a')\n",
        "logger_b = logging.getLogger('module_b')\n",
        "\n",
        "\n",
        "# d)Create handlers to write log messages to a file, console, or other destination.\n",
        "logger_a = logging.getLogger('module_a')\n",
        "logger_b = logging.getLogger('module_b')\n",
        "\n",
        "\n",
        "# e)Add the handlers to the loggers.\n",
        "handler = logging.StreamHandler()\n",
        "formatter = logging.Formatter('%(asctime)s - %(levelname)s - %(message)s')\n",
        "handler.setFormatter(formatter)\n",
        "\n",
        "logger_a.addHandler(handler)\n",
        "logger_a.setLevel(logging.INFO)\n",
        "\n",
        "logger_b.addHandler(handler)\n",
        "logger_b.setLevel(logging.WARNING)\n",
        "\n",
        "# f)Log messages from the modules or classes\n",
        "logger_a.info('an informational message from module_a.')\n",
        "logger_b.warning('a warning message from module_b.')\n"
      ]
    },
    {
      "cell_type": "markdown",
      "metadata": {
        "id": "yymhw7iys3lV"
      },
      "source": [
        "###   <font color='red'>9. What is the difference between the logging and print statements in Python? When should you use logging over print statements in a real-world application?</font>\n"
      ]
    },
    {
      "cell_type": "code",
      "execution_count": null,
      "metadata": {
        "id": "mKuKtiZvs3lV"
      },
      "outputs": [],
      "source": [
        "\"\"\"LOGGING VS PRINT STATEMENT\"\"\"\n",
        "# Print statement is a built in function in python that print specivied values  to the console\n",
        "# It is mainly used in debugging\n",
        "\n",
        "# Logging is module for logging information in python\n",
        "# It allows you to log messages to files,database or other destination\n",
        "# We can control level of detail of log message\n",
        "# We can filter message that are logged\n",
        "\n",
        "# Feature\t                      print                       logging\n",
        "\n",
        "# Purpose                       Debugging\t                  Logging\n",
        "# Destination\t                 Console\t              File, database, other destination\n",
        "# Level of detail\t             Fixed\t                     Adjustable\n",
        "# Filtering              \t   Not possible\t                  Possible"
      ]
    },
    {
      "cell_type": "code",
      "execution_count": null,
      "metadata": {
        "id": "MZ2limyVs3lV"
      },
      "outputs": [],
      "source": [
        "# we use logging over print statements in a real-world application\n",
        "\n",
        "#Logging is more flexible.:\n",
        "#      we can log messages to a file, database, or other destination.\n",
        "#      You can also control the level of detail of the log messages,\n",
        "#      and you can filter the messages that are logged.\n",
        "\n",
        "#Logging is more portable.\n",
        "#      You can use the logging module in any Python application, regardless of the platform.\n",
        "\n",
        "#Logging is more secure.\n",
        "#       like the print statments the log messages are not displayed in the console, so they are not visible to users.\n",
        "\n",
        "# Logging can be used to troubleshoot problems.\n",
        "#       If application crashes or behaves unexpectedly,\n",
        "#       we can use the log messages to track down the source of the problem\n",
        "\n",
        "# You can use the log messages to track the performance of your application"
      ]
    },
    {
      "cell_type": "markdown",
      "metadata": {
        "id": "S7eENF4ns3lV"
      },
      "source": [
        "###   <font color='red'>10. Write a Python program that logs a message to a file named \"app.log\" with the following requirements:</font>\n",
        "\n",
        "● The log message should be \"Hello, World!\"\n",
        "\n",
        "● The log level should be set to \"INFO.\"\n",
        "\n",
        "● The log file should append new log entries without overwriting previous ones."
      ]
    },
    {
      "cell_type": "code",
      "execution_count": null,
      "metadata": {
        "id": "q_JU7L_6s3lV"
      },
      "outputs": [],
      "source": [
        "import logging\n",
        "logging.basicConfig(\n",
        "    level=logging.INFO,\n",
        "    filename='app.log',\n",
        "    filemode='a',\n",
        "    format='%(asctime)s | %(levelname)s | %(message)s')\n",
        "\n",
        "logging.info(\"Hello, World!\")"
      ]
    },
    {
      "cell_type": "markdown",
      "metadata": {
        "id": "vJgBIhnus3lV"
      },
      "source": [
        "###   <font color='red'>11. Create a Python program that logs an error message to the console and a file named \"errors.log\" if an exception occurs during the program's execution. The error message should include the exception type and a timestamp.</font>\n"
      ]
    },
    {
      "cell_type": "code",
      "execution_count": null,
      "metadata": {
        "id": "2bU_tYP1s3lV"
      },
      "outputs": [],
      "source": [
        "import logging\n",
        "\n",
        "logging.basicConfig(filename=\"errors.log\",filemode=\"a\",level=logging.ERROR,\n",
        "format=\"%(asctime)s , %(name)s , %(levelname)s , %(message)s \")\n",
        "\n",
        "try:\n",
        "    100/0\n",
        "except Exception as e:\n",
        "\n",
        "    logging.exception(\"the exception is %s\",e)"
      ]
    }
  ],
  "metadata": {
    "kernelspec": {
      "display_name": "Python 3.8.10 64-bit",
      "language": "python",
      "name": "python3"
    },
    "language_info": {
      "codemirror_mode": {
        "name": "ipython",
        "version": 3
      },
      "file_extension": ".py",
      "mimetype": "text/x-python",
      "name": "python",
      "nbconvert_exporter": "python",
      "pygments_lexer": "ipython3",
      "version": "3.8.10"
    },
    "orig_nbformat": 4,
    "vscode": {
      "interpreter": {
        "hash": "e7370f93d1d0cde622a1f8e1c04877d8463912d04d973331ad4851f04de6915a"
      }
    },
    "colab": {
      "provenance": [],
      "include_colab_link": true
    }
  },
  "nbformat": 4,
  "nbformat_minor": 0
}