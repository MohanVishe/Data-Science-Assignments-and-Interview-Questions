{
  "cells": [
    {
      "cell_type": "markdown",
      "metadata": {
        "id": "reH2xEAduyJT"
      },
      "source": [
        "###   <font color='red'>1. What is the role of try and exception block?</font>"
      ]
    },
    {
      "cell_type": "code",
      "execution_count": null,
      "metadata": {
        "id": "vjgQGjEluyJU"
      },
      "outputs": [],
      "source": [
        "# Try and exception blocks are used for handling error or exceptions which occur during execution of program\n",
        "# The code in which exception is occurs is placed in try block\n",
        "# When the error occured in try block the program execution is immediately transferred to corresponding except block"
      ]
    },
    {
      "cell_type": "markdown",
      "metadata": {
        "id": "rhl-X4bTuyJV"
      },
      "source": [
        "###   <font color='red'>2. What is the syntax for a basic try-except block?</font>"
      ]
    },
    {
      "cell_type": "code",
      "execution_count": null,
      "metadata": {
        "id": "_koD_UvHuyJV"
      },
      "outputs": [],
      "source": [
        "try:\n",
        "    # Code which might raise an exception\n",
        "    # (we can raise costom error by using \"raise\" )\n",
        "\n",
        "except Exception_Type:\n",
        "    # Code to handle Exception_Type1\n",
        "except Exception_Type:\n",
        "    # to handle Exception_Type2\n",
        "except:\n",
        "    # to handle any other exception\n",
        "\n",
        "else :\n",
        "    # If there will be no exception inside of the code of try block this block will executed\n",
        "\n",
        "finally:\n",
        "    # Code that will be executed regardless of whether an exception occurred or not"
      ]
    },
    {
      "cell_type": "markdown",
      "metadata": {
        "id": "hs9ZeT3juyJW"
      },
      "source": [
        "###   <font color='red'>3. What happens if an exception occurs inside a try block and there is no matching except block?</font>"
      ]
    },
    {
      "cell_type": "code",
      "execution_count": null,
      "metadata": {
        "id": "greNKJy4uyJW"
      },
      "outputs": [],
      "source": [
        "# If an exception occurs inside a try block and there is no matching except block\n",
        "# The parent exception block will executed if it is present\n",
        "# If there is no exception block then the program will terminate\n",
        "# The exception will be considered unhandled exception wihch will result in\n",
        "# an error massage being displayed"
      ]
    },
    {
      "cell_type": "markdown",
      "metadata": {
        "id": "atrRyk6FuyJW"
      },
      "source": [
        "###   <font color='red'>4. What is the difference between using a bare except block and specifying a specific exception type?</font>"
      ]
    },
    {
      "cell_type": "code",
      "execution_count": null,
      "metadata": {
        "id": "m4zv-8HouyJW"
      },
      "outputs": [],
      "source": [
        "\"\"\"Specific Exception Type:\"\"\"\n",
        "# \"except ValueError: or except FileNotFoundError:\" here we are explicitly targeting\n",
        "# particular type of exception.\n",
        "# This allow us to handle exception in focused manner.\n",
        "# We can write code which is specific to handle that type which contain logging , error meassages\n",
        "# It give meaningful feedback to user to take appropriate actions\n",
        "\n",
        "\"\"\" Bare Exception Block:\"\"\"\n",
        "# \"exception:\" Convenient when you want to provide a general error handling mechanism or\n",
        "# perform common error handling tasks for any type of exception.\n",
        "#  It catch all exception\n",
        "# Due to it  makes harder to identify and debug specific errors."
      ]
    },
    {
      "cell_type": "markdown",
      "metadata": {
        "id": "Na_dAT8DuyJW"
      },
      "source": [
        "###   <font color='red'>5. Can you have nested try-except blocks in Python? If yes, then give an example.</font>"
      ]
    },
    {
      "cell_type": "code",
      "execution_count": null,
      "metadata": {
        "id": "TWzaci2LuyJW"
      },
      "outputs": [],
      "source": [
        "# Yes we can have nested try-except blocks in python"
      ]
    },
    {
      "cell_type": "code",
      "execution_count": null,
      "metadata": {
        "id": "iUbWQWCouyJX"
      },
      "outputs": [],
      "source": [
        "try :\n",
        "    a= input(\"Enter A number\")\n",
        "    b= input(\"Enter a number\")\n",
        "    a=int(a)\n",
        "    b=int(b)\n",
        "    try:\n",
        "      print(\"Division is \",a/b)\n",
        "    except :\n",
        "        print(\"Enter 2nd value should be non zero\")\n",
        "except :\n",
        "    print(\"You have not Enter The number\")"
      ]
    },
    {
      "cell_type": "markdown",
      "metadata": {
        "id": "dFGMtVDWuyJX"
      },
      "source": [
        "###   <font color='red'>6. Can we use multiple exception blocks, if yes then give an example.</font>"
      ]
    },
    {
      "cell_type": "code",
      "execution_count": null,
      "metadata": {
        "id": "Covt6dCHuyJX"
      },
      "outputs": [],
      "source": [
        "class GreaterThanNineError(Exception):\n",
        "    pass\n",
        "\n",
        "\n",
        "try:\n",
        "    a=input(\"Enter a number less than 10 \")\n",
        "    b=input(\"Enter a number \")\n",
        "    a=int(a)\n",
        "    b=int(b)\n",
        "\n",
        "    if a >=10:\n",
        "        raise GreaterThanNineError\n",
        "    print(\"difference is\",a-b)\n",
        "    print(\"Division is \",a/b)\n",
        "\n",
        "except GreaterThanNineError:\n",
        "    print(\"The first value should be less than 10\")\n",
        "except ZeroDivisionError :\n",
        "    print(\"The second value should not be zero\")\n",
        "except ValueError:\n",
        "    print(\"The value should be number\")\n",
        "except :\n",
        "    print(\"Any Error occured\")\n",
        ""
      ]
    },
    {
      "cell_type": "markdown",
      "metadata": {
        "id": "Eb9U-CkpuyJX"
      },
      "source": [
        "###   <font color='red'>7. Write the reason due to which following errors are raised:</font>\n",
        "\n",
        "a. EOFError\n",
        "\n",
        "b. FloatingPointError\n",
        "\n",
        "c. IndexError\n",
        "\n",
        "d. MemoryError\n",
        "\n",
        "e. OverflowError\n",
        "\n",
        "f. TabError\n",
        "\n",
        "g. ValueError\n"
      ]
    },
    {
      "cell_type": "code",
      "execution_count": null,
      "metadata": {
        "id": "ewLDS3wZuyJX"
      },
      "outputs": [],
      "source": [
        "# a) EOFError:\n",
        "# This exception raises when the input() function reaches the end-of-file condition.\n",
        "\n",
        "# b)FloatingPointError:\n",
        "# When a floating point operation fails, this error occurs.\n",
        "\n",
        "# c)IndexError:\n",
        "# When you access an index, on a sequence, that is out of range, you get an IndexError.\n",
        "\n",
        "# d) MemoryError:\n",
        "# This raises when an operation runs out of memory.\n",
        "\n",
        "# e)OverflowError:\n",
        "# This raises when the result of an arithmetic operation is too large to be represented.\n",
        "\n",
        "# f)TabError:\n",
        "# This raises when the indentation is inconsistent in tabs and spaces.\n",
        "\n",
        "# g)ValueError\n",
        "# This raises when you send in an argument of the correct type, but an improper value."
      ]
    },
    {
      "cell_type": "markdown",
      "metadata": {
        "id": "0zKo83-ouyJX"
      },
      "source": [
        "###   <font color='red'>8. Write code for the following given scenario and add try-exception block to it.\n",
        "\n",
        "a. Program to divide two numbers\n",
        "\n",
        "b. Program to convert a string to an integer\n",
        "\n",
        "c. Program to access an element in a list\n",
        "\n",
        "d. Program to handle a specific exception\n",
        "\n",
        "e. Program to handle any exception\n",
        "\n",
        "</font>"
      ]
    },
    {
      "cell_type": "code",
      "execution_count": 6,
      "metadata": {
        "id": "RKwjK8kguyJY"
      },
      "outputs": [],
      "source": [
        "# a. Program to divide two numbers:\n",
        "\n",
        "def division (a,b):\n",
        "    try:\n",
        "        return a/b\n",
        "    except ZeroDivisionError:\n",
        "        print(\"error: 2nd argument non zero\")\n",
        "\n",
        "# b. Program to convert a string to an integer\n",
        "\n",
        "def Str_to_int(a):\n",
        "    try:\n",
        "        return int(a)\n",
        "    except ValueError:\n",
        "        print(\"Error: cannot convert this string into integer.\")\n",
        "\n",
        "# c. Program to access an element in a list\n",
        "\n",
        "def Give_Ele_In_list(lst,indx):\n",
        "    try:\n",
        "        return lst[indx]\n",
        "    except IndexError:\n",
        "        print(\"error: Give index present in the list\")\n",
        "    except:\n",
        "        print(\"Any error occured\")\n",
        "\n",
        "# d. Program to handle a specific exception\n",
        "\n",
        "def Specific_Exception(num):\n",
        "    try:\n",
        "      if num==0:\n",
        "        x=10/num\n",
        "      elif num >0 :\n",
        "        int(\"x\")\n",
        "      else:\n",
        "        [0,3,2][num]\n",
        "    except ValueError:\n",
        "        print(\"Error: value should not be convert into integer\")\n",
        "    except ZeroDivisionError:\n",
        "        print(\"Error: value should not be zero.\")\n",
        "    except IndexError:\n",
        "        print(\"List is out of index\")\n",
        "\n",
        "# e. Program to handle any exception\n",
        "\n",
        "def Any_Error():\n",
        "    try:\n",
        "        a=[23,43][1000]\n",
        "    except Exception as e:\n",
        "        print(\"Error occurred is \",str(e))"
      ]
    }
  ],
  "metadata": {
    "kernelspec": {
      "display_name": "Python 3.8.10 64-bit",
      "language": "python",
      "name": "python3"
    },
    "language_info": {
      "codemirror_mode": {
        "name": "ipython",
        "version": 3
      },
      "file_extension": ".py",
      "mimetype": "text/x-python",
      "name": "python",
      "nbconvert_exporter": "python",
      "pygments_lexer": "ipython3",
      "version": "3.8.10"
    },
    "orig_nbformat": 4,
    "vscode": {
      "interpreter": {
        "hash": "e7370f93d1d0cde622a1f8e1c04877d8463912d04d973331ad4851f04de6915a"
      }
    },
    "colab": {
      "provenance": []
    }
  },
  "nbformat": 4,
  "nbformat_minor": 0
}