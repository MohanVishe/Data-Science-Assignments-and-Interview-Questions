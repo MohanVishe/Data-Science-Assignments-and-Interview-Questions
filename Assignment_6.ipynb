{
  "nbformat": 4,
  "nbformat_minor": 0,
  "metadata": {
    "colab": {
      "provenance": [],
      "authorship_tag": "ABX9TyNmzCd7FpGEFKZAxxUjdQCU",
      "include_colab_link": true
    },
    "kernelspec": {
      "name": "python3",
      "display_name": "Python 3"
    },
    "language_info": {
      "name": "python"
    }
  },
  "cells": [
    {
      "cell_type": "markdown",
      "metadata": {
        "id": "view-in-github",
        "colab_type": "text"
      },
      "source": [
        "<a href=\"https://colab.research.google.com/github/MohanVishe/Data-Science-Assignments-and-Interview-Questions/blob/main/Python_Basic_Assignment_6.ipynb\" target=\"_parent\"><img src=\"https://colab.research.google.com/assets/colab-badge.svg\" alt=\"Open In Colab\"/></a>"
      ]
    },
    {
      "cell_type": "markdown",
      "source": [
        "### <font color='red'>Q.1. What are keywords in python? Using the keyword library, print all the python keywords.</font>"
      ],
      "metadata": {
        "id": "QFCgKSE-k2yj"
      }
    },
    {
      "cell_type": "code",
      "source": [
        "# keywords : are specific reserved words which has their specific meaning\n",
        "# we can't use them for another purpose, they are predefined and dont need to import\n",
        "import keyword\n",
        "for i in keyword.kwlist:\n",
        "  print(i)"
      ],
      "metadata": {
        "colab": {
          "base_uri": "https://localhost:8080/"
        },
        "id": "l97n95TIlKxe",
        "outputId": "46bedf74-3c7c-438f-d612-7e5553a72903"
      },
      "execution_count": null,
      "outputs": [
        {
          "output_type": "stream",
          "name": "stdout",
          "text": [
            "False\n",
            "None\n",
            "True\n",
            "and\n",
            "as\n",
            "assert\n",
            "async\n",
            "await\n",
            "break\n",
            "class\n",
            "continue\n",
            "def\n",
            "del\n",
            "elif\n",
            "else\n",
            "except\n",
            "finally\n",
            "for\n",
            "from\n",
            "global\n",
            "if\n",
            "import\n",
            "in\n",
            "is\n",
            "lambda\n",
            "nonlocal\n",
            "not\n",
            "or\n",
            "pass\n",
            "raise\n",
            "return\n",
            "try\n",
            "while\n",
            "with\n",
            "yield\n"
          ]
        }
      ]
    },
    {
      "cell_type": "markdown",
      "source": [
        "### <font color='red'>Q.2. What are the rules to create variables in python?</font>"
      ],
      "metadata": {
        "id": "GKI795YWlRj3"
      }
    },
    {
      "cell_type": "code",
      "source": [
        "# All variables are identifiers so they must follow all their rules and they are as follow\n",
        "# 1.  The variable name shouldn't be keywords and not contain any special character like &,* etc\n",
        "# 2.  The variable names don't start with number but can contain numbers\n",
        "# 3.  The variable names can start with _\n",
        "# 4.  The varible names are case sensitive word with capital and small letters will be different variables"
      ],
      "metadata": {
        "id": "I122TEo5mDuN"
      },
      "execution_count": null,
      "outputs": []
    },
    {
      "cell_type": "markdown",
      "source": [
        "### <font color='red'>Q.3. What are the standards and conventions followed for the nomenclature of variables in python to improve code readability and maintainability?</font>"
      ],
      "metadata": {
        "id": "l8WJohw9p8wK"
      }
    },
    {
      "cell_type": "code",
      "source": [
        "# Varibles names should be in lower case \n",
        "# If we want to add some words to variable name we can use underscore in between \n",
        "# shouldn't start with number and don't contain any keywords and special character &,*,-"
      ],
      "metadata": {
        "id": "mlYGDZqUgvks"
      },
      "execution_count": null,
      "outputs": []
    },
    {
      "cell_type": "markdown",
      "source": [
        "### <font color='red'>Q.4. What will happen if a keyword is used as a variable name?</font>"
      ],
      "metadata": {
        "id": "XaBT1rvXPHMw"
      }
    },
    {
      "cell_type": "code",
      "source": [
        "# It will give syntax error"
      ],
      "metadata": {
        "id": "13Rm-mGyhTOD"
      },
      "execution_count": null,
      "outputs": []
    },
    {
      "cell_type": "code",
      "source": [
        "and=100"
      ],
      "metadata": {
        "colab": {
          "base_uri": "https://localhost:8080/",
          "height": 131
        },
        "id": "T0yWnga7hNNF",
        "outputId": "95eb714a-6aed-4af0-b096-926524cb5872"
      },
      "execution_count": null,
      "outputs": [
        {
          "output_type": "error",
          "ename": "SyntaxError",
          "evalue": "ignored",
          "traceback": [
            "\u001b[0;36m  File \u001b[0;32m\"<ipython-input-6-26aa01a22cb8>\"\u001b[0;36m, line \u001b[0;32m1\u001b[0m\n\u001b[0;31m    and=100\u001b[0m\n\u001b[0m    ^\u001b[0m\n\u001b[0;31mSyntaxError\u001b[0m\u001b[0;31m:\u001b[0m invalid syntax\n"
          ]
        }
      ]
    },
    {
      "cell_type": "markdown",
      "source": [
        "### <font color='red'>Q.5. For what purpose def keyword is used?</font>"
      ],
      "metadata": {
        "id": "UhE2Gk2APLq3"
      }
    },
    {
      "cell_type": "code",
      "source": [
        "# When we want to define the function we start with \"def\" keyword"
      ],
      "metadata": {
        "id": "XRfvquc6hafk"
      },
      "execution_count": null,
      "outputs": []
    },
    {
      "cell_type": "markdown",
      "source": [
        "### <font color='red'>Q.6. What is the operation of this special character ‘\\’?</font>"
      ],
      "metadata": {
        "id": "qD2D10HDPSWW"
      }
    },
    {
      "cell_type": "code",
      "source": [
        " # backslash(\\) is a special character called escape character\n",
        "# If we want to continue statement on the second line we can use \\\n",
        "a=1+2+3+4+\\\n",
        "5+6+7+\\\n",
        "8\n",
        "print(a)\n",
        "# \\n is new line\n",
        "# \\t is a tab"
      ],
      "metadata": {
        "id": "wkooB8sWjhu9",
        "colab": {
          "base_uri": "https://localhost:8080/"
        },
        "outputId": "5a47b051-9ad0-42ec-d79c-ba01e75737c3"
      },
      "execution_count": null,
      "outputs": [
        {
          "output_type": "stream",
          "name": "stdout",
          "text": [
            "36\n"
          ]
        }
      ]
    },
    {
      "cell_type": "markdown",
      "source": [
        "### <font color='red'>Q.7. Give an example of the following conditions:\n",
        "(i) Homogeneous list\n",
        "(ii) Heterogeneous set\n",
        "(iii) Homogeneous tuple</font>"
      ],
      "metadata": {
        "id": "CfZX5qBwPdPx"
      }
    },
    {
      "cell_type": "code",
      "source": [
        "# Homogeneous- contain all elements of single type of data\n",
        "# Heterogeneous -contain  elements of many types of data\n",
        "\n",
        "# (i) Homogeneous list\n",
        "i =[\"Mohan\",\"Raj\",\"Rahul\",\"Gaurav\"]\n",
        "\n",
        "# (ii) Heterogeneous set\n",
        "ii ={\"name\",199,True,399,\"can\"}\n",
        "\n",
        "# (iii) Homogeneous tuple\n",
        "iii =(34,234,543,53,54,24,2,13,435)"
      ],
      "metadata": {
        "id": "qPKGwLeFu-tc"
      },
      "execution_count": null,
      "outputs": []
    },
    {
      "cell_type": "markdown",
      "source": [
        "### <font color='red'>Q.8. Explain the mutable and immutable data types with proper explanation & examples.</font>"
      ],
      "metadata": {
        "id": "ouwvnX4zPy27"
      }
    },
    {
      "cell_type": "code",
      "source": [
        "\"\"\"Mutable data types\"\"\" #  The object that can be changed (value can be changed) after they are created\n",
        "# example: list,set,dictonary,integer,float,etc\n",
        "lst=[10,100,1000]\n",
        "lst.append(10000)\n",
        "lst"
      ],
      "metadata": {
        "colab": {
          "base_uri": "https://localhost:8080/"
        },
        "id": "qcqlX6pMyQmH",
        "outputId": "6bb8907e-0ff7-4c02-df2f-4fde2d9cf61c"
      },
      "execution_count": 4,
      "outputs": [
        {
          "output_type": "execute_result",
          "data": {
            "text/plain": [
              "[10, 100, 1000, 10000]"
            ]
          },
          "metadata": {},
          "execution_count": 4
        }
      ]
    },
    {
      "cell_type": "code",
      "source": [
        "\"\"\"Immutable data types \"\"\" # The object than cannot be changed after they are created\n",
        "# example: tuple, frozen set,string ,etc\n",
        "tpl=(10,100,1000)\n",
        "tpl[2]=0"
      ],
      "metadata": {
        "colab": {
          "base_uri": "https://localhost:8080/",
          "height": 200
        },
        "id": "X89nXP6fzHKn",
        "outputId": "6468e4dc-6e92-4d07-cf02-156a6ffef9d8"
      },
      "execution_count": 6,
      "outputs": [
        {
          "output_type": "error",
          "ename": "TypeError",
          "evalue": "ignored",
          "traceback": [
            "\u001b[0;31m---------------------------------------------------------------------------\u001b[0m",
            "\u001b[0;31mTypeError\u001b[0m                                 Traceback (most recent call last)",
            "\u001b[0;32m<ipython-input-6-7e7060323dc0>\u001b[0m in \u001b[0;36m<cell line: 4>\u001b[0;34m()\u001b[0m\n\u001b[1;32m      2\u001b[0m \u001b[0;31m# example: tuple, frozen set,string ,etc\u001b[0m\u001b[0;34m\u001b[0m\u001b[0;34m\u001b[0m\u001b[0m\n\u001b[1;32m      3\u001b[0m \u001b[0mtpl\u001b[0m\u001b[0;34m=\u001b[0m\u001b[0;34m(\u001b[0m\u001b[0;36m10\u001b[0m\u001b[0;34m,\u001b[0m\u001b[0;36m100\u001b[0m\u001b[0;34m,\u001b[0m\u001b[0;36m1000\u001b[0m\u001b[0;34m)\u001b[0m\u001b[0;34m\u001b[0m\u001b[0;34m\u001b[0m\u001b[0m\n\u001b[0;32m----> 4\u001b[0;31m \u001b[0mtpl\u001b[0m\u001b[0;34m[\u001b[0m\u001b[0;36m2\u001b[0m\u001b[0;34m]\u001b[0m\u001b[0;34m=\u001b[0m\u001b[0;36m0\u001b[0m\u001b[0;34m\u001b[0m\u001b[0;34m\u001b[0m\u001b[0m\n\u001b[0m",
            "\u001b[0;31mTypeError\u001b[0m: 'tuple' object does not support item assignment"
          ]
        }
      ]
    },
    {
      "cell_type": "markdown",
      "source": [
        "### <font color='red'>Q.9. Write a code to create the given structure using only for loop.</font>\n"
      ],
      "metadata": {
        "id": "DVl-4OOGQBoV"
      }
    },
    {
      "cell_type": "code",
      "source": [
        "for i in range(1,10,2):\n",
        "  print(\" \"*(4-i//2)+\"*\"*i)"
      ],
      "metadata": {
        "colab": {
          "base_uri": "https://localhost:8080/"
        },
        "id": "ivb_HaTlQSLb",
        "outputId": "e8376dd2-201b-4a86-c194-d756534341c3"
      },
      "execution_count": 7,
      "outputs": [
        {
          "output_type": "stream",
          "name": "stdout",
          "text": [
            "    *\n",
            "   ***\n",
            "  *****\n",
            " *******\n",
            "*********\n"
          ]
        }
      ]
    },
    {
      "cell_type": "markdown",
      "source": [
        "### <font color='red'>Q.10. Write a code to create the given structure using while loop.</font>\n",
        "\n"
      ],
      "metadata": {
        "id": "9x2haKvMRSQY"
      }
    },
    {
      "cell_type": "code",
      "source": [
        "i=5\n",
        "while i>=0:\n",
        "  print(\" \"*(5-i)+\"|\"*((i*2)-1))\n",
        "  i-=1"
      ],
      "metadata": {
        "colab": {
          "base_uri": "https://localhost:8080/"
        },
        "id": "LBTNESrmRhaO",
        "outputId": "ded871fe-41f0-410f-95ce-8c55ef4e74fc"
      },
      "execution_count": 8,
      "outputs": [
        {
          "output_type": "stream",
          "name": "stdout",
          "text": [
            "|||||||||\n",
            " |||||||\n",
            "  |||||\n",
            "   |||\n",
            "    |\n",
            "     \n"
          ]
        }
      ]
    }
  ]
}
