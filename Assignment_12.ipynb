{
  "nbformat": 4,
  "nbformat_minor": 0,
  "metadata": {
    "colab": {
      "provenance": [],
      "authorship_tag": "ABX9TyMvFB3y8wWWi2E5QPs7qWUt",
      "include_colab_link": true
    },
    "kernelspec": {
      "name": "python3",
      "display_name": "Python 3"
    },
    "language_info": {
      "name": "python"
    }
  },
  "cells": [
    {
      "cell_type": "markdown",
      "metadata": {
        "id": "view-in-github",
        "colab_type": "text"
      },
      "source": [
        "<a href=\"https://colab.research.google.com/github/MohanVishe/Python-Basic-Assignments-and-interview-Questions/blob/main/Assignment_12.ipynb\" target=\"_parent\"><img src=\"https://colab.research.google.com/assets/colab-badge.svg\" alt=\"Open In Colab\"/></a>"
      ]
    },
    {
      "cell_type": "markdown",
      "source": [
        "###   <font color='red'>1.  What is the primary goal of Object-Oriented Programming (OOP)?</font>"
      ],
      "metadata": {
        "id": "z5IbcDUoxpKR"
      }
    },
    {
      "cell_type": "code",
      "source": [
        "# Object Oriented programming language is based on classes and objects.\n",
        "# Used to structre program into a simple,reusable piece of code.\n",
        "# The multiple object interact with objects to create large program.\n",
        "\n",
        "\n",
        "\"\"\"The primary goal of Object-Oriented Programming (OOP) is to model\n",
        " and organize the code in a way that reflects the real-world objects,\n",
        " their interactions, and their behavior. OOP is a programming paradigm that\n",
        "  revolves around the concept of \"objects,\" which are instances of classes.\"\"\"\n",
        "\n",
        "\n",
        "\n",
        "# GOALs:\n",
        "\n",
        "# Adaptability:  software may run on different generations and grows over long lifetime\n",
        "# To hold entire data into single object such that it would be easy to pass this to other methods and objects\n",
        "# Multiprocessing , Binding of data to avoid data loss\n",
        "# Robustness (complex program should operate correctly)"
      ],
      "metadata": {
        "id": "R8plYJV3yJHU"
      },
      "execution_count": null,
      "outputs": []
    },
    {
      "cell_type": "code",
      "source": [
        "\"\"\"The 4 pillars of OOPs\"\"\"\n",
        "# 1.Modularity: OOP encourages breaking down complex systems into smaller,\n",
        "#     more manageable pieces called classes. Each class represents a specific\n",
        "#     object or concept in the system, making it easier to understand and maintain the code.\n",
        "\n",
        "# 2.Encapsulation: OOP promotes the concept of encapsulation, where the internal\n",
        "#      details of an object are hidden from the outside world. The object's data (attributes)\n",
        "#      and behavior (methods) are bundled together within the class, and the external entities interact\n",
        "#      with the object through well-defined interfaces. This enhances data protection and allows changes\n",
        "#      to the internal implementation without affecting external code that uses the object.\n",
        "\n",
        "# 3.Inheritance: OOP allows the creation of new classes based on existing classes,\n",
        "#      inheriting their attributes and behaviors. Inheritance facilitates code reuse,\n",
        "#      as common features can be defined in a base class and inherited by multiple derived classes,\n",
        "#      reducing redundant code and promoting a hierarchical organization of objects.\n",
        "\n",
        "# 4.Polymorphism: Polymorphism allows objects of different classes to be treated as instances of a common base class.\n",
        "#      It enables the same method name to behave differently depending on the specific object that calls it.\n",
        "#      This provides flexibility and extensibility, making it easier to add new classes and behaviors to the system."
      ],
      "metadata": {
        "id": "jA2cCYkRZ8nb"
      },
      "execution_count": null,
      "outputs": []
    },
    {
      "cell_type": "markdown",
      "source": [
        "###   <font color='red'>2. What is an object in Python?</font>"
      ],
      "metadata": {
        "id": "MonF8vXbyJmg"
      }
    },
    {
      "cell_type": "code",
      "source": [
        "#  Everything in Python is an object, including simple data types like numbers and strings,\n",
        "#  as well as more complex data structures, functions, and classes.\n",
        "#  Object is an instance of a class or particular data type.\n",
        "\n",
        "a=[10,23] # this is an list object"
      ],
      "metadata": {
        "id": "Lit0v8Yuyalu"
      },
      "execution_count": null,
      "outputs": []
    },
    {
      "cell_type": "code",
      "source": [
        "#  It can store data which is called as attributes\n",
        "len(a) # this is an attribute"
      ],
      "metadata": {
        "colab": {
          "base_uri": "https://localhost:8080/"
        },
        "id": "H9b4ZDPzz-1b",
        "outputId": "21d904db-43f5-40e0-cbf8-8f10b17905cc"
      },
      "execution_count": null,
      "outputs": [
        {
          "output_type": "execute_result",
          "data": {
            "text/plain": [
              "2"
            ]
          },
          "metadata": {},
          "execution_count": 6
        }
      ]
    },
    {
      "cell_type": "code",
      "source": [
        "#  It can perform actions called methods\n",
        "\n",
        "a.append(12) # method : append()\n",
        "a"
      ],
      "metadata": {
        "colab": {
          "base_uri": "https://localhost:8080/"
        },
        "id": "yML-U-bX0EPL",
        "outputId": "662225e5-592f-40c4-9d39-0d4f07287e96"
      },
      "execution_count": null,
      "outputs": [
        {
          "output_type": "execute_result",
          "data": {
            "text/plain": [
              "[10, 23, 12]"
            ]
          },
          "metadata": {},
          "execution_count": 7
        }
      ]
    },
    {
      "cell_type": "code",
      "source": [
        "# Every Object has unique Identity which is unique Identifier for that object during its lifetime\n",
        "id(a)    # use id() function to find"
      ],
      "metadata": {
        "colab": {
          "base_uri": "https://localhost:8080/"
        },
        "id": "VVQEwRX91Gtu",
        "outputId": "fabd7ce8-368f-443e-9f14-5826f22c831c"
      },
      "execution_count": null,
      "outputs": [
        {
          "output_type": "execute_result",
          "data": {
            "text/plain": [
              "140576664609792"
            ]
          },
          "metadata": {},
          "execution_count": 8
        }
      ]
    },
    {
      "cell_type": "code",
      "source": [
        "# Each object in Python belongs to a specific data type or class, which defines its behavior and attributes.\n",
        "type(a)  # use type() function to find"
      ],
      "metadata": {
        "colab": {
          "base_uri": "https://localhost:8080/"
        },
        "id": "mg6IVpMW1jhD",
        "outputId": "6e5de0aa-094a-41e7-a7e6-e10553064c80"
      },
      "execution_count": null,
      "outputs": [
        {
          "output_type": "execute_result",
          "data": {
            "text/plain": [
              "list"
            ]
          },
          "metadata": {},
          "execution_count": 9
        }
      ]
    },
    {
      "cell_type": "markdown",
      "source": [
        "###   <font color='red'>3. What is a class in Python?</font>"
      ],
      "metadata": {
        "id": "XCe0e-hoybHO"
      }
    },
    {
      "cell_type": "code",
      "source": [
        "# A class is a blueprint or template for creating objects with specific attributes and methods\n",
        "# A class is object constructor\n",
        "# A class defines a new data type, and objects are instances of that class.\n",
        "# Each object created from a class has its own unique data and can perform actions defined by the class's methods.\n",
        "\n",
        "# The attributes in a class represent the data members (variables),\n",
        "# the methods represent the functions or actions that can be performed on the objects of that class.\n",
        "\n",
        "\n",
        "\n",
        "class Energy :                          # Name of the class\n",
        "\n",
        "  loss=\"can't create or  loss\"          # class attribute\n",
        "\n",
        "  def __init__(self,value,Type) :       # special method used to give arguments called Constructor method\n",
        "\n",
        "    self.value= value                   # Instance attribute\n",
        "    self.energy_type= Type\n",
        "\n",
        "  def describe(self):                   # Instance Method = It is same as function but it is inside class\n",
        "    print(\"The type of energy is\",self.energy_type ,\"and its value is \",self.value)"
      ],
      "metadata": {
        "id": "a3lS32snyjiK"
      },
      "execution_count": null,
      "outputs": []
    },
    {
      "cell_type": "code",
      "source": [
        "ABC= Energy (10,\"K.E\")                  # This is object created from class\n",
        "PQR= Energy (23,\"P.E\")"
      ],
      "metadata": {
        "id": "1KtQAbvm7QIr"
      },
      "execution_count": null,
      "outputs": []
    },
    {
      "cell_type": "markdown",
      "source": [
        "###   <font color='red'>4. What are attributes and methods in a class?</font>"
      ],
      "metadata": {
        "id": "RSquOgr-yj6y"
      }
    },
    {
      "cell_type": "code",
      "source": [
        "# Any variable that is bound in a class is a class attribute . Any function defined within a class is a method .\n",
        "# Methods receive an instance of the class, conventionally called self , as the first argument."
      ],
      "metadata": {
        "id": "-m3RuPrm8DIg"
      },
      "execution_count": null,
      "outputs": []
    },
    {
      "cell_type": "code",
      "source": [
        "# Attributes :\n",
        "#     Attributes are variables that hold data associated with an object.\n",
        "#     They represent the state or proprety of object\n",
        "#     Each object can have its own unique values for the attributes defined in the class.\n",
        "#     Attributes can be accessed and modified using dot notation."
      ],
      "metadata": {
        "id": "OAjkCQ1qyqQx"
      },
      "execution_count": null,
      "outputs": []
    },
    {
      "cell_type": "code",
      "source": [
        "class Text ():\n",
        "  Language=\"English\"                       # class attributes\n",
        "\n",
        "  def __init__(self,size,Type):\n",
        "    self.size=size\n",
        "    self.text_type=Type                    # instance attributes"
      ],
      "metadata": {
        "id": "MguHqJI28kkV"
      },
      "execution_count": null,
      "outputs": []
    },
    {
      "cell_type": "code",
      "source": [
        "a=Text(10,\"Bold\")"
      ],
      "metadata": {
        "id": "z08fi5l9893q"
      },
      "execution_count": null,
      "outputs": []
    },
    {
      "cell_type": "code",
      "source": [
        "print(a.size)\n",
        "print(a.text_type)"
      ],
      "metadata": {
        "colab": {
          "base_uri": "https://localhost:8080/"
        },
        "id": "q2idCelVxRYW",
        "outputId": "53dfe86a-2cd5-4aab-a7c1-0f79e96bfcb2"
      },
      "execution_count": null,
      "outputs": [
        {
          "output_type": "stream",
          "name": "stdout",
          "text": [
            "10\n",
            "Bold\n"
          ]
        }
      ]
    },
    {
      "cell_type": "code",
      "source": [
        "# Methods:\n",
        "#    Methods are function defined within the call which performs action on object\n",
        "#    Methods can access and modify the attributes of the object.\n",
        "#    Similar to attributes, there can be instance methods, which work on individual objects\n",
        "#    or class methods, which work on the class itself."
      ],
      "metadata": {
        "id": "6bZ7TDSqzIlr"
      },
      "execution_count": null,
      "outputs": []
    },
    {
      "cell_type": "code",
      "source": [
        "class greet :\n",
        "  def name (self,name):                   # method\n",
        "    print(\"Hello\",name)"
      ],
      "metadata": {
        "id": "1lURRIVwzt4K"
      },
      "execution_count": null,
      "outputs": []
    },
    {
      "cell_type": "code",
      "source": [
        "a=greet()"
      ],
      "metadata": {
        "id": "Ze0iOk3j0SGA"
      },
      "execution_count": null,
      "outputs": []
    },
    {
      "cell_type": "code",
      "source": [
        "a.name(\"Data\")          # attribute dont have any parenthesis '()' but method has while calling"
      ],
      "metadata": {
        "colab": {
          "base_uri": "https://localhost:8080/"
        },
        "id": "bi82TwE00Xou",
        "outputId": "83d8e086-2f25-4f0a-bd9a-990725b59dba"
      },
      "execution_count": null,
      "outputs": [
        {
          "output_type": "stream",
          "name": "stdout",
          "text": [
            "Hello Data\n"
          ]
        }
      ]
    },
    {
      "cell_type": "markdown",
      "source": [
        "###   <font color='red'>5. What is the difference between class variables and instance variables in Python?</font>"
      ],
      "metadata": {
        "id": "UnDOnoRByqnW"
      }
    },
    {
      "cell_type": "code",
      "source": [
        "\"\"\"Class Variables:\"\"\"\n",
        "\n",
        "# 1. Class variables are defined within the class but outside any methods.\n",
        "# 2. They are accessible by all instances of the class as well as the class itself.\n",
        "# 3. Class variables persist throughout the lifetime of the program or until they are explicitly modified or deleted.\n",
        "# 4. Access: Class variables can be accessed using either the class name or any instance of the class.\n",
        "# 5. When accessed through an instance, the value of the class variable will be the same for all instances.\n",
        "# 6. Class variables are shared among all instances of the class,\n",
        "# 7.  Any modification to the variable will be reflected in all instances."
      ],
      "metadata": {
        "id": "qdJKuZTRyv5q"
      },
      "execution_count": null,
      "outputs": []
    },
    {
      "cell_type": "code",
      "source": [
        "\"\"\"Instance Variables:\"\"\"\n",
        "# 1. Instance variables are specific to each instance of the class.\n",
        "# 2. They are defined within the methods of the class, typically in the constructor (__init__ method).\n",
        "# 3. Each instance of  class has its own copy of instance variables\n",
        "# 4. Instance variables exist as long as the object they belong to exists.\n",
        "# 5. Instance variables are accessed through the object instance itself.\n",
        "# 6. Each instance variable is unique to its object and does not affect other instances of the class.\n"
      ],
      "metadata": {
        "id": "0AJn_KJC2ik7"
      },
      "execution_count": null,
      "outputs": []
    },
    {
      "cell_type": "code",
      "source": [
        "class Dog:\n",
        "    species = 'Canine'  # Class variable\n",
        "\n",
        "    def __init__(self, name):\n",
        "        self.name = name  # Instance variable\n",
        "\n",
        "dog1 = Dog(\"Buddy\")\n",
        "dog2 = Dog(\"Max\")"
      ],
      "metadata": {
        "id": "Tbz3Tba32aKQ"
      },
      "execution_count": null,
      "outputs": []
    },
    {
      "cell_type": "markdown",
      "source": [
        "###   <font color='red'>6. What is the purpose of the self parameter in Python class methods?</font>"
      ],
      "metadata": {
        "id": "w0DgZ7SUywNk"
      }
    },
    {
      "cell_type": "code",
      "source": [
        "# 1.Class methods, the self parameter is a convention used to refer to the instance of the class itself.\n",
        "# 2. Acts as a reference to the object on which the method is called.\n",
        "# 3. When we define a class method in Python, we typically include self as the first parameter in the method definition.\n",
        "\n",
        "class Car:\n",
        "    def __init__(self, brand, model):\n",
        "        self.brand = brand\n",
        "        self.model = model\n",
        "\n",
        "    def get_details(self):\n",
        "        return f\"The car is a {self.brand} {self.model}.\"\n",
        "\n",
        "# the self parameter implicitly refers to the calling object.\n",
        "# Inside the methods, 'self.brand' and 'self.model' allow access to the specific attributes of each car object."
      ],
      "metadata": {
        "id": "m79xq2Ljy03c"
      },
      "execution_count": null,
      "outputs": []
    },
    {
      "cell_type": "markdown",
      "source": [
        "###   <font color='red'>7. For a library management system, you have to design the \"Book\" class with OOP principles in mind. The “Book” class will have following attributes:</font>\n",
        "\n",
        "a. title: Represents the title of the book.\n",
        "\n",
        "b. author: Represents the author(s) of the book.\n",
        "\n",
        "c. isbn: Represents the ISBN (International Standard Book Number) of the book.\n",
        "\n",
        "d. publication_year: Represents the year of publication of the book.\n",
        "\n",
        "e. available_copies: Represents the number of copies available for checkout.\n",
        "\n",
        "The class will also include the following methods:\n",
        "\n",
        "a. check_out(self): Decrements the available copies by one if there are copies available for checkout.\n",
        "\n",
        "b. return_book(self): Increments the available copies by one when a book is\n",
        "returned.\n",
        "\n",
        "c. display_book_info(self): Displays the information about the book, including its attributes and the number of available copies."
      ],
      "metadata": {
        "id": "CEJV-E6ry1Mm"
      }
    },
    {
      "cell_type": "code",
      "source": [
        "class Book :\n",
        "  def __init__(self,title,author,isbn,publication_year,available_copies):\n",
        "    self.title=title\n",
        "    self.author=author\n",
        "    self.isbn=isbn\n",
        "    self.publication_year=publication_year\n",
        "    self.available_copies=available_copies\n",
        "\n",
        "  def check_out(self):\n",
        "    if self.available_copies >=1:\n",
        "      self.available_copies=self.available_copies-1\n",
        "\n",
        "  def return_book(self):\n",
        "    self.available_copies=self.available_copies +1\n",
        "\n",
        "  def display_book_info(self):\n",
        "    print(\"title: \",self.title)\n",
        "    print(\"author: \",self.author)\n",
        "    print(\"International Standard Book Number: \",self.isbn)\n",
        "    print(\"year of publication: \",self.publication_year)\n",
        "    print(\"number of copies available for checkout: \",self.available_copies)"
      ],
      "metadata": {
        "id": "Qm_D04fezQLI"
      },
      "execution_count": 92,
      "outputs": []
    },
    {
      "cell_type": "markdown",
      "source": [
        "###   <font color='red'>8. For a ticket booking system, you have to design the \"Ticket\" class with OOP principles in mind. The “Ticket” class should have the following attributes:</font>\n",
        "a. ticket_id: Represents the unique identifier for the ticket.\n",
        "\n",
        "b. event_name: Represents the name of the event.\n",
        "\n",
        "c. event_date: Represents the date of the event.\n",
        "\n",
        "d. venue: Represents the venue of the event.\n",
        "\n",
        "e. seat_number: Represents the seat number associated with the ticket.\n",
        "\n",
        "f. price: Represents the price of the ticket.\n",
        "\n",
        "g. is_reserved: Represents the reservation status of the ticket.\n",
        "\n",
        "The class also includes the following methods:\n",
        "\n",
        "a. reserve_ticket(self): Marks the ticket as reserved if it is not already reserved.\n",
        "\n",
        "b. cancel_reservation(self): Cancels the reservation of the ticket if it is already reserved.\n",
        "\n",
        "c. display_ticket_info(self): Displays the information about the ticket, including its attributes and reservation status."
      ],
      "metadata": {
        "id": "wF3tTdULzQhR"
      }
    },
    {
      "cell_type": "code",
      "source": [
        "class Ticket:\n",
        "  def __init__(self,ticket_id,event_name,event_date,venue,seat_number,price,is_reserved):\n",
        "    self.ticket_id=ticket_id\n",
        "    self.event_name=event_name\n",
        "    self.event_date=event_date\n",
        "    self.venue=venue\n",
        "    self.seat_number=seat_number\n",
        "    self.price=price\n",
        "    self.is_reserved=is_reserved\n",
        "\n",
        "  def reserve_ticket(self):\n",
        "    if not(self.is_reserved):\n",
        "      self.is_reserved=True\n",
        "\n",
        "  def cancel_reservation(self):\n",
        "    if self.is_reserved:\n",
        "      self.is_reserved=False\n",
        "\n",
        "  def display_ticket_info(self):\n",
        "    print(\"Ticket_id: \",self.ticket_id)\n",
        "    print(\"Event_name: \",self.event_name)\n",
        "    print(\"event_date: \",self.event_date)\n",
        "    print(\"Venue: \",self.venue)\n",
        "    print(\"seat_number\",self.seat_number)\n",
        "    print(\"price\",self.price)\n",
        "    print(\"is reserved\",self.is_reserved)"
      ],
      "metadata": {
        "id": "FP-UT5i50SgU"
      },
      "execution_count": 42,
      "outputs": []
    },
    {
      "cell_type": "code",
      "source": [
        "T=Ticket(123,\"pqr\",\"12/3/2023\",\"abc\",456,789,True)\n",
        "T.display_ticket_info()"
      ],
      "metadata": {
        "colab": {
          "base_uri": "https://localhost:8080/"
        },
        "id": "8brsUlckLbM4",
        "outputId": "5a08ce29-2077-4b22-b6d1-0d6ec88b6020"
      },
      "execution_count": 45,
      "outputs": [
        {
          "output_type": "stream",
          "name": "stdout",
          "text": [
            "Ticket_id:  123\n",
            "Event_name:  pqr\n",
            "event_date:  12/3/2023\n",
            "Venue:  abc\n",
            "seat_number 456\n",
            "price 789\n",
            "is reserved True\n"
          ]
        }
      ]
    },
    {
      "cell_type": "code",
      "source": [
        "T.reserve_ticket()\n",
        "T.is_reserved"
      ],
      "metadata": {
        "colab": {
          "base_uri": "https://localhost:8080/"
        },
        "id": "gJYoAWkDMlPM",
        "outputId": "885691bd-139c-4793-9187-c6901cabf538"
      },
      "execution_count": 50,
      "outputs": [
        {
          "output_type": "execute_result",
          "data": {
            "text/plain": [
              "True"
            ]
          },
          "metadata": {},
          "execution_count": 50
        }
      ]
    },
    {
      "cell_type": "code",
      "source": [
        "T.cancel_reservation()\n",
        "T.is_reserved"
      ],
      "metadata": {
        "colab": {
          "base_uri": "https://localhost:8080/"
        },
        "id": "_Wfwj_9ZM2Tr",
        "outputId": "ee5c83df-8bd5-4346-fbb8-6ccd396e18a9"
      },
      "execution_count": 51,
      "outputs": [
        {
          "output_type": "execute_result",
          "data": {
            "text/plain": [
              "False"
            ]
          },
          "metadata": {},
          "execution_count": 51
        }
      ]
    },
    {
      "cell_type": "markdown",
      "source": [
        "###   <font color='red'>9. You are creating a shopping cart for an e-commerce website. Using OOP to model the \"ShoppingCart\" functionality the class should contain following attributes and methods:</font>\n",
        "\n",
        "a. items: Represents the list of items in the shopping cart.\n",
        "The class also includes the following methods:\n",
        "\n",
        "a. add_item(self, item): Adds an item to the shopping cart by appending it to the list of items.\n",
        "\n",
        "b. remove_item(self, item): Removes an item from the shopping cart if it exists in the list.\n",
        "\n",
        "c. view_cart(self): Displays the items currently present in the shopping cart.\n",
        "\n",
        "d. clear_cart(self): Clears all items from the shopping cart by reassigning an empty list to the items attribute."
      ],
      "metadata": {
        "id": "1ug_vbpc0S4A"
      }
    },
    {
      "cell_type": "code",
      "source": [
        "class ShoppingCart:\n",
        "  def __init__(self,items):\n",
        "    self.items=items\n",
        "\n",
        "  def add_item(self,item):\n",
        "    self.items.append(item)\n",
        "\n",
        "  def remove_item(self,item):\n",
        "    self.items.remove(item)\n",
        "\n",
        "  def view_cart(self):\n",
        "    print(self.items)\n",
        "\n",
        "  def clear_cart(self):\n",
        "    self.items=list()"
      ],
      "metadata": {
        "id": "i7WnLd4iNKeA"
      },
      "execution_count": 58,
      "outputs": []
    },
    {
      "cell_type": "code",
      "source": [
        "A=ShoppingCart([\"abc\",\"pqr\",\"xyz\"])\n",
        "A.view_cart()"
      ],
      "metadata": {
        "colab": {
          "base_uri": "https://localhost:8080/"
        },
        "id": "sKdqWixnQsmX",
        "outputId": "5c099ab4-6e2c-42dd-d06f-f1a5cf1809bf"
      },
      "execution_count": 59,
      "outputs": [
        {
          "output_type": "stream",
          "name": "stdout",
          "text": [
            "['abc', 'pqr', 'xyz']\n"
          ]
        }
      ]
    },
    {
      "cell_type": "code",
      "source": [
        "A.add_item(\"efg\")\n",
        "A.view_cart()"
      ],
      "metadata": {
        "colab": {
          "base_uri": "https://localhost:8080/"
        },
        "id": "kuR0p6BVQ9Sq",
        "outputId": "5c67b844-f97f-4f65-caa4-a73cf65f9f28"
      },
      "execution_count": 60,
      "outputs": [
        {
          "output_type": "stream",
          "name": "stdout",
          "text": [
            "['abc', 'pqr', 'xyz', 'efg']\n"
          ]
        }
      ]
    },
    {
      "cell_type": "code",
      "source": [
        "A.remove_item(\"abc\")\n",
        "A.view_cart()"
      ],
      "metadata": {
        "colab": {
          "base_uri": "https://localhost:8080/"
        },
        "id": "kTC72YsERHhz",
        "outputId": "291f48ad-68e5-457f-ecff-6a43c3e3bd5a"
      },
      "execution_count": 61,
      "outputs": [
        {
          "output_type": "stream",
          "name": "stdout",
          "text": [
            "['pqr', 'xyz', 'efg']\n"
          ]
        }
      ]
    },
    {
      "cell_type": "code",
      "source": [
        "A.clear_cart()\n",
        "A.view_cart()"
      ],
      "metadata": {
        "colab": {
          "base_uri": "https://localhost:8080/"
        },
        "id": "Bo6W4zQBRUa7",
        "outputId": "232231e8-c08f-4f26-c8eb-5cc9678feb33"
      },
      "execution_count": 62,
      "outputs": [
        {
          "output_type": "stream",
          "name": "stdout",
          "text": [
            "[]\n"
          ]
        }
      ]
    },
    {
      "cell_type": "markdown",
      "source": [
        "###   <font color='red'>10. Imagine a school management system. You have to design the \"Student\" class using OOP concepts.The “Student” class has the following attributes:</font>\n",
        "a. name: Represents the name of the student.\n",
        "\n",
        "b. age: Represents the age of the student.\n",
        "\n",
        "c. grade: Represents the grade or class of the student.\n",
        "\n",
        "d. student_id: Represents the unique identifier for the student.\n",
        "\n",
        "e. attendance: Represents the attendance record of the student.\n",
        "\n",
        "The class should also include the following methods:\n",
        "\n",
        "a. update_attendance(self, date, status): Updates the attendance record of the student for a given date with the provided status (e.g., present or absent).\n",
        "\n",
        "b. get_attendance(self): Returns the attendance record of the student.\n",
        "\n",
        "c. get_average_attendance(self): Calculates and returns the average\n",
        "attendance percentage of the student based on their attendance record."
      ],
      "metadata": {
        "id": "LXaeDZfC1sKr"
      }
    },
    {
      "cell_type": "code",
      "source": [
        "class Student:\n",
        "  def __init__(self,name,age,grade,student_id,attendance=dict()):\n",
        "    self.name=name\n",
        "    self.age=age\n",
        "    self.grade=grade\n",
        "    self.student_id=student_id\n",
        "    self.attendance=attendance # attendance in dictionary with data key and  status value\n",
        "\n",
        "  def update_attendance(self,date,status):\n",
        "    self.attendance[date]=status\n",
        "\n",
        "\n",
        "  def get_attendance(self):\n",
        "    return self.attendance\n",
        "\n",
        "  def get_average_attendance(self):\n",
        "    a=0\n",
        "    for i in self.attendance.values():\n",
        "      if i==\"present\":\n",
        "        a+=1\n",
        "    return a*100/len(self.attendance.values())"
      ],
      "metadata": {
        "id": "34Q1GMeT6XKZ"
      },
      "execution_count": 87,
      "outputs": []
    },
    {
      "cell_type": "code",
      "source": [
        "A=Student(\"ABC\",20,\"A\",123,{\"23/4/23\":\"present\",\"24/4/23\":\"absent\"})"
      ],
      "metadata": {
        "id": "Aj7ahhigWEZY"
      },
      "execution_count": 88,
      "outputs": []
    },
    {
      "cell_type": "code",
      "source": [
        "print(A.name)\n",
        "print(A.age)\n",
        "print(A.student_id)\n",
        "print(A.grade)\n",
        "print(A.attendance)"
      ],
      "metadata": {
        "colab": {
          "base_uri": "https://localhost:8080/"
        },
        "id": "nWGWkR3LXbmF",
        "outputId": "a7d2451d-bdef-4373-d540-1098bdc5cad1"
      },
      "execution_count": 89,
      "outputs": [
        {
          "output_type": "stream",
          "name": "stdout",
          "text": [
            "ABC\n",
            "20\n",
            "123\n",
            "A\n",
            "{'23/4/23': 'present', '24/4/23': 'absent'}\n"
          ]
        }
      ]
    },
    {
      "cell_type": "code",
      "source": [
        "A.update_attendance(\"25/4/23\",\"present\")\n",
        "print(A.attendance)"
      ],
      "metadata": {
        "colab": {
          "base_uri": "https://localhost:8080/"
        },
        "id": "mctaMRETX4sZ",
        "outputId": "0dac9f1a-9525-4e85-cad8-d8b4392bf8cd"
      },
      "execution_count": 90,
      "outputs": [
        {
          "output_type": "stream",
          "name": "stdout",
          "text": [
            "{'23/4/23': 'present', '24/4/23': 'absent', '25/4/23': 'present'}\n"
          ]
        }
      ]
    },
    {
      "cell_type": "code",
      "source": [
        "A.get_average_attendance()"
      ],
      "metadata": {
        "colab": {
          "base_uri": "https://localhost:8080/"
        },
        "id": "1RhTbIaFYWer",
        "outputId": "c3bf271e-3094-4699-9de9-5cf645d595f6"
      },
      "execution_count": 91,
      "outputs": [
        {
          "output_type": "execute_result",
          "data": {
            "text/plain": [
              "66.66666666666667"
            ]
          },
          "metadata": {},
          "execution_count": 91
        }
      ]
    }
  ]
}