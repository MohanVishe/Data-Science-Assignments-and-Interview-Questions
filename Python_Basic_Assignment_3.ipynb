{
  "nbformat": 4,
  "nbformat_minor": 0,
  "metadata": {
    "colab": {
      "provenance": [],
      "authorship_tag": "ABX9TyOnplpp6jpjxyCaYKQDOErK",
      "include_colab_link": true
    },
    "kernelspec": {
      "name": "python3",
      "display_name": "Python 3"
    },
    "language_info": {
      "name": "python"
    }
  },
  "cells": [
    {
      "cell_type": "markdown",
      "metadata": {
        "id": "view-in-github",
        "colab_type": "text"
      },
      "source": [
        "<a href=\"https://colab.research.google.com/github/MohanVishe/Python-Basic-Assignments/blob/main/Python_Basic_Assignment_3.ipynb\" target=\"_parent\"><img src=\"https://colab.research.google.com/assets/colab-badge.svg\" alt=\"Open In Colab\"/></a>"
      ]
    },
    {
      "cell_type": "markdown",
      "source": [
        "### <font color='red'>1. Why are functions advantageous to have in your programs?</font>"
      ],
      "metadata": {
        "id": "IjlX8wxI6fXz"
      }
    },
    {
      "cell_type": "code",
      "execution_count": null,
      "metadata": {
        "id": "ZMGPhY0Z57rR"
      },
      "outputs": [],
      "source": [
        "# Code become simple to read \n",
        "# Avoid repeatation of the code\n",
        "# It convert large program into smaller parts with organized way\n",
        "# We reuse the code due to function"
      ]
    },
    {
      "cell_type": "markdown",
      "source": [
        "### <font color='red'>2. When does the code in a function run: when it&#39;s specified or when it&#39;s called?</font>"
      ],
      "metadata": {
        "id": "ITUCW63M7xpA"
      }
    },
    {
      "cell_type": "code",
      "source": [
        "# When the function is called."
      ],
      "metadata": {
        "id": "GLN18x0n8Fqe"
      },
      "execution_count": null,
      "outputs": []
    },
    {
      "cell_type": "markdown",
      "source": [
        "### <font color='red'>3. What statement creates a function?</font>"
      ],
      "metadata": {
        "id": "dJKt3gQB8Vit"
      }
    },
    {
      "cell_type": "code",
      "source": [
        "# we use \"def\" keyword when we define function at start\n",
        "# then we give function name and arguments\n",
        "# colon (:) is used then in next line block context inside function"
      ],
      "metadata": {
        "id": "2uzdwAD88caQ"
      },
      "execution_count": null,
      "outputs": []
    },
    {
      "cell_type": "markdown",
      "source": [
        "### <font color='red'>4. What is the difference between a function and a function call?</font>"
      ],
      "metadata": {
        "id": "4PObhpl29Wtv"
      }
    },
    {
      "cell_type": "code",
      "source": [
        "\"\"\"function\"\"\"#  is where function is defined which contain all the code of the function\n",
        "# for reusing the code and \n",
        "\"\"\"function call\"\"\" # is where the function is used in program so it goes to the function\n",
        "# and run all the codes and get output or return statement\n",
        "# without calling function there is no use of function"
      ],
      "metadata": {
        "id": "jKT0Inr19rDT"
      },
      "execution_count": null,
      "outputs": []
    },
    {
      "cell_type": "markdown",
      "source": [
        "### <font color='red'>5. How many global scopes are there in a Python program? How many local scopes?</font>"
      ],
      "metadata": {
        "id": "4cPd6Zw6dmmh"
      }
    },
    {
      "cell_type": "code",
      "source": [
        "# There is 1 global scope and local scope created "
      ],
      "metadata": {
        "id": "-_akLRTvdyQN"
      },
      "execution_count": null,
      "outputs": []
    },
    {
      "cell_type": "markdown",
      "source": [
        "### <font color='red'>6. What happens to variables in a local scope when the function call returns?<font>"
      ],
      "metadata": {
        "id": "6I3heeIOh6rJ"
      }
    },
    {
      "cell_type": "code",
      "source": [
        "# Varibles created inside function are local varibles\n",
        "# Lifespan of local varibles is remain inside the function\n",
        "# each call of function creates new local varibles \n",
        "# Whoes lifespan expired When function return to caller"
      ],
      "metadata": {
        "id": "lePvjl5TiRyf"
      },
      "execution_count": null,
      "outputs": []
    },
    {
      "cell_type": "markdown",
      "source": [
        "### <font color='red'>7. What is the concept of a return value? Is it possible to have a return value in an expression?</font>"
      ],
      "metadata": {
        "id": "YA2KqfoJiSXV"
      }
    },
    {
      "cell_type": "code",
      "source": [
        "# When we call fuction the function runs and we get some output\n",
        "# To give this output value to caller we use return value\n",
        "# Python function always have return value even if we dont give any value in return statement\n",
        "# If we dont return any value the None will be return"
      ],
      "metadata": {
        "id": "Jie5QSpBif43"
      },
      "execution_count": null,
      "outputs": []
    },
    {
      "cell_type": "markdown",
      "source": [
        "### <font color='red'>8. If a function does not have a return statement, what is the return value of a call to that function?</font>"
      ],
      "metadata": {
        "id": "Kl05XSmciX2Y"
      }
    },
    {
      "cell_type": "code",
      "source": [
        "# Function does not have return statement it will return None value "
      ],
      "metadata": {
        "id": "rfKwxYcHigf9"
      },
      "execution_count": null,
      "outputs": []
    },
    {
      "cell_type": "markdown",
      "source": [
        "### <font color='red'>9. How do you make a function variable refer to the global variable?</font>"
      ],
      "metadata": {
        "id": "CuV97hcqifJv"
      }
    },
    {
      "cell_type": "code",
      "source": [
        "# Global variables can be used by everyone, both inside of functions and outside\n",
        "a=100\n",
        "\n",
        "def variable():\n",
        "  print(a)\n",
        "\n",
        "variable()\n",
        "\n",
        "#  we can use the global keyword to declare which variables are global."
      ],
      "metadata": {
        "id": "5vmVGMa3im2y",
        "colab": {
          "base_uri": "https://localhost:8080/"
        },
        "outputId": "6feb003f-9918-4721-fc90-671362068d5d"
      },
      "execution_count": 1,
      "outputs": [
        {
          "output_type": "stream",
          "name": "stdout",
          "text": [
            "100\n"
          ]
        }
      ]
    },
    {
      "cell_type": "markdown",
      "source": [
        "### <font color='red'>10. What is the data type of None?</font>"
      ],
      "metadata": {
        "id": "nVW5RfKjinIc"
      }
    },
    {
      "cell_type": "code",
      "source": [
        "# None Type class"
      ],
      "metadata": {
        "id": "DFXiLJ6bisVq"
      },
      "execution_count": null,
      "outputs": []
    },
    {
      "cell_type": "markdown",
      "source": [
        "### <font color='red'>11. What does the sentence import areallyourpetsnamederic do?</font>"
      ],
      "metadata": {
        "id": "aGwHAzcKish_"
      }
    },
    {
      "cell_type": "code",
      "source": [
        " # imports a module named areallyourpetsnamederic."
      ],
      "metadata": {
        "id": "ySct1FULi5e6"
      },
      "execution_count": 3,
      "outputs": []
    },
    {
      "cell_type": "markdown",
      "source": [
        "### <font color='red'>12. If you had a bacon() feature in a spam module, what would you call it after importing spam?</font>\n"
      ],
      "metadata": {
        "id": "c_WysQVei5vR"
      }
    },
    {
      "cell_type": "code",
      "source": [
        "# spam.bacon()"
      ],
      "metadata": {
        "id": "y3bQdeyLjQHV"
      },
      "execution_count": null,
      "outputs": []
    },
    {
      "cell_type": "markdown",
      "source": [
        "### <font color='red'>13. What can you do to save a programme from crashing if it encounters an error?</font>"
      ],
      "metadata": {
        "id": "5KG9zpIVjQqM"
      }
    },
    {
      "cell_type": "code",
      "source": [
        "# If program encounters an error we can place it in try clause"
      ],
      "metadata": {
        "id": "VNiQw4lHj8xJ"
      },
      "execution_count": null,
      "outputs": []
    },
    {
      "cell_type": "markdown",
      "source": [
        "### <font color='red'>14. What is the purpose of the try clause? What is the purpose of the except clause?</font>"
      ],
      "metadata": {
        "id": "Pnm1nMf5j9Zc"
      }
    },
    {
      "cell_type": "code",
      "source": [
        "# try clause : The code encounters an error we placed in try clause\n",
        "# except clause : IF any error occured in try claues the except clause will run."
      ],
      "metadata": {
        "id": "XK0fDQxWkN_c"
      },
      "execution_count": null,
      "outputs": []
    }
  ]
}