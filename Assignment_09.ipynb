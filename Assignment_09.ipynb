{
  "nbformat": 4,
  "nbformat_minor": 0,
  "metadata": {
    "colab": {
      "provenance": [],
      "authorship_tag": "ABX9TyOuSk31M0bpjExrcbNgzq1t",
      "include_colab_link": true
    },
    "kernelspec": {
      "name": "python3",
      "display_name": "Python 3"
    },
    "language_info": {
      "name": "python"
    }
  },
  "cells": [
    {
      "cell_type": "markdown",
      "metadata": {
        "id": "view-in-github",
        "colab_type": "text"
      },
      "source": [
        "<a href=\"https://colab.research.google.com/github/MohanVishe/Python-Basic-Assignments/blob/main/Assignment_9.ipynb\" target=\"_parent\"><img src=\"https://colab.research.google.com/assets/colab-badge.svg\" alt=\"Open In Colab\"/></a>"
      ]
    },
    {
      "cell_type": "markdown",
      "source": [
        "### <font color='red'>1. What is a lambda function in Python, and how does it differ from a regular function?</font>"
      ],
      "metadata": {
        "id": "le3hctXLe0kf"
      }
    },
    {
      "cell_type": "code",
      "source": [
        "# lambda functions are anonymous function that defined without name\n",
        "\"\"\"lambda argument : expression\"\"\"\n",
        "# lambda function are small function they dont contain \"def\" keywords\n",
        "# lambda function are used for small task they are not used for complex tasks\n",
        "# So the code of lambda function is written in single line dont have multiple statement\n",
        "# Mainly used with function like filter(),map()"
      ],
      "metadata": {
        "id": "lWsCZQMde8AQ"
      },
      "execution_count": null,
      "outputs": []
    },
    {
      "cell_type": "code",
      "source": [
        "# regualar\n",
        "def sqare (a):\n",
        "  return a**2\n",
        "\n",
        "# lambda\n",
        "sq=lambda x : x**2"
      ],
      "metadata": {
        "id": "kDvV3qM6gEVO"
      },
      "execution_count": null,
      "outputs": []
    },
    {
      "cell_type": "markdown",
      "source": [
        "### <font color='red'>2. Can a lambda function in Python have multiple arguments? If yes, how can you define and use them?</font>"
      ],
      "metadata": {
        "id": "BuNV1xDkgffp"
      }
    },
    {
      "cell_type": "code",
      "source": [
        "# Yes lambda function in python have multiple arguments\n",
        "# we can give multiple arguments which are seperated by \",\"\n",
        "\n",
        "\"\"\"lambda arg1, arg2, ..., argN: expression\"\"\""
      ],
      "metadata": {
        "id": "ERCvahRLiEZC"
      },
      "execution_count": null,
      "outputs": []
    },
    {
      "cell_type": "code",
      "source": [
        "mul=lambda a,b : a*b"
      ],
      "metadata": {
        "id": "dxTWwg7Xj7ih"
      },
      "execution_count": null,
      "outputs": []
    },
    {
      "cell_type": "code",
      "source": [
        "mul(10,5)"
      ],
      "metadata": {
        "colab": {
          "base_uri": "https://localhost:8080/"
        },
        "id": "wCUXjbY3kHjM",
        "outputId": "b1784b0c-7d67-48b8-d2ef-321fff70c102"
      },
      "execution_count": null,
      "outputs": [
        {
          "output_type": "execute_result",
          "data": {
            "text/plain": [
              "50"
            ]
          },
          "metadata": {},
          "execution_count": 5
        }
      ]
    },
    {
      "cell_type": "markdown",
      "source": [
        "### <font color='red'>3. How are lambda functions typically used in Python? Provide an example use case.</font>"
      ],
      "metadata": {
        "id": "o2vZRrWbkSlu"
      }
    },
    {
      "cell_type": "code",
      "source": [
        "# lambda function are small function with single statement\n",
        "# They are mainly used with function like filter(),map(),reduce()\n",
        "# They mainly handle simple task and directly used\n",
        "\n",
        "# 1. functional programming:\n",
        "a=[10,4,52,53,12,11,43]\n",
        "\n",
        "print(list(filter(lambda a : a%2==0,a)))\n",
        "\n",
        "print(list(map(lambda a:a**2,a)))"
      ],
      "metadata": {
        "colab": {
          "base_uri": "https://localhost:8080/"
        },
        "id": "2VrvkU3Ekd9f",
        "outputId": "3fba0c11-2315-494b-a9a7-ed1939c08e34"
      },
      "execution_count": null,
      "outputs": [
        {
          "output_type": "stream",
          "name": "stdout",
          "text": [
            "[10, 4, 52, 12]\n",
            "[100, 16, 2704, 2809, 144, 121, 1849]\n"
          ]
        }
      ]
    },
    {
      "cell_type": "markdown",
      "source": [
        "### <font color='red'>4. What are the advantages and limitations of lambda functions compared to regular functions in python?\n",
        "</font>"
      ],
      "metadata": {
        "id": "Prk2earFp4tQ"
      }
    },
    {
      "cell_type": "code",
      "source": [
        "\"\"\"Advantages\"\"\"\n",
        "# Thus function can be directly used in the other function such as filter,reduce,map\n",
        "# Due to there is no need of function name the lambda function so code looks more clean and organized\n",
        "# lambda function have compact syntax so useful in simple operation that dont required full function defination\n",
        "# The code is easy to read\n",
        "\n",
        "\"\"\"Limitation\"\"\"\n",
        "# In lambda function we cant use multiple statements or complex logic\n",
        "# The function don't have formal name and docstrings\n",
        "# Error in lambda function the traceback massage may not provide usefull information\n",
        "# Lambda function are created forr short time tasks or simple operation which\n",
        "# reduce reuseability of function."
      ],
      "metadata": {
        "id": "PIY0goyJqGit"
      },
      "execution_count": null,
      "outputs": []
    },
    {
      "cell_type": "markdown",
      "source": [
        "### <font color='red'>5. Are lambda functions in Python able to access variables defined outside of their own scope? Explain with an example.</font>"
      ],
      "metadata": {
        "id": "ydmQuZDyYXxV"
      }
    },
    {
      "cell_type": "code",
      "source": [
        "\"\"\"Lexical Scoping or closure\"\"\"\n",
        "# Yes,lambda function have access to the variables defined outside of their own scope. This feature is called Lexical scoping\n",
        "\n",
        "\n",
        "def add(n):\n",
        "  return lambda a:a+n\n",
        "\n",
        "# Here the varible n is defined outside the lambda function though it is used inside\n",
        "# the lambda function."
      ],
      "metadata": {
        "id": "h-vtIbOtYXfK"
      },
      "execution_count": null,
      "outputs": []
    },
    {
      "cell_type": "code",
      "source": [
        "one = add(1)\n",
        "two = add(2)\n",
        "dontadd= add(0)"
      ],
      "metadata": {
        "id": "eGnV8S2rZ0HM"
      },
      "execution_count": null,
      "outputs": []
    },
    {
      "cell_type": "code",
      "source": [
        "one(10)"
      ],
      "metadata": {
        "colab": {
          "base_uri": "https://localhost:8080/"
        },
        "id": "uzzVSQbXaPWy",
        "outputId": "75fcc7d4-0ad5-49e7-f895-a3dbac40efa6"
      },
      "execution_count": null,
      "outputs": [
        {
          "output_type": "execute_result",
          "data": {
            "text/plain": [
              "11"
            ]
          },
          "metadata": {},
          "execution_count": 4
        }
      ]
    },
    {
      "cell_type": "code",
      "source": [
        "two(10)"
      ],
      "metadata": {
        "colab": {
          "base_uri": "https://localhost:8080/"
        },
        "id": "dLjd9mpTaTHN",
        "outputId": "f4497990-3fea-4f1c-b2cb-e32dd4e65507"
      },
      "execution_count": null,
      "outputs": [
        {
          "output_type": "execute_result",
          "data": {
            "text/plain": [
              "12"
            ]
          },
          "metadata": {},
          "execution_count": 5
        }
      ]
    },
    {
      "cell_type": "code",
      "source": [
        "dontadd(10)"
      ],
      "metadata": {
        "colab": {
          "base_uri": "https://localhost:8080/"
        },
        "id": "nL3eIFCJaWup",
        "outputId": "192c2bdd-dc64-4ba1-a09d-a0bc4dbd589d"
      },
      "execution_count": null,
      "outputs": [
        {
          "output_type": "execute_result",
          "data": {
            "text/plain": [
              "10"
            ]
          },
          "metadata": {},
          "execution_count": 6
        }
      ]
    },
    {
      "cell_type": "markdown",
      "source": [
        "### <font color='red'>6. Write a lambda function to calculate the square of a given number.</font>"
      ],
      "metadata": {
        "id": "WoSANFTVceHI"
      }
    },
    {
      "cell_type": "code",
      "source": [
        "square=lambda num : num**2"
      ],
      "metadata": {
        "id": "iVCQrZVNctdw"
      },
      "execution_count": null,
      "outputs": []
    },
    {
      "cell_type": "code",
      "source": [
        "square(10)"
      ],
      "metadata": {
        "colab": {
          "base_uri": "https://localhost:8080/"
        },
        "id": "Zwv1eqFjc5ka",
        "outputId": "4055d676-73e4-42da-8697-e3a4827d86d2"
      },
      "execution_count": null,
      "outputs": [
        {
          "output_type": "execute_result",
          "data": {
            "text/plain": [
              "100"
            ]
          },
          "metadata": {},
          "execution_count": 8
        }
      ]
    },
    {
      "cell_type": "markdown",
      "source": [
        "### <font color='red'>7. Create a lambda function to find the maximum value in a list of integers.</font>"
      ],
      "metadata": {
        "id": "n_tU3yCOc9JL"
      }
    },
    {
      "cell_type": "code",
      "source": [
        "maximum=lambda a : max(a)\n",
        "a=[1,24,353,53,543]\n",
        "maximum(a)"
      ],
      "metadata": {
        "colab": {
          "base_uri": "https://localhost:8080/"
        },
        "id": "4ZFy5h3HdN_6",
        "outputId": "031c0eea-ae43-4aa3-c6f2-3fd5bc00fb7e"
      },
      "execution_count": null,
      "outputs": [
        {
          "output_type": "execute_result",
          "data": {
            "text/plain": [
              "543"
            ]
          },
          "metadata": {},
          "execution_count": 14
        }
      ]
    },
    {
      "cell_type": "code",
      "source": [
        "from functools import reduce\n",
        "\n",
        "reduce(  (lambda x,y : x if x>y else y)  , a )"
      ],
      "metadata": {
        "colab": {
          "base_uri": "https://localhost:8080/"
        },
        "id": "YyCJNufSepfM",
        "outputId": "56b12205-00f1-4f25-ed4b-f201bdccaa72"
      },
      "execution_count": null,
      "outputs": [
        {
          "output_type": "execute_result",
          "data": {
            "text/plain": [
              "543"
            ]
          },
          "metadata": {},
          "execution_count": 15
        }
      ]
    },
    {
      "cell_type": "markdown",
      "source": [
        "### <font color='red'>8. Implement a lambda function to filter out all the even numbers from a list of integers.</font>"
      ],
      "metadata": {
        "id": "wNIqVIfUfOHt"
      }
    },
    {
      "cell_type": "code",
      "source": [
        "a=[1,24,353,53,543]\n",
        "\n",
        "list(filter(lambda x : x%2==0,a))"
      ],
      "metadata": {
        "colab": {
          "base_uri": "https://localhost:8080/"
        },
        "id": "-dF_PHw1fU5X",
        "outputId": "61ce9aa2-5450-46d7-d74d-2763aac8ad9b"
      },
      "execution_count": null,
      "outputs": [
        {
          "output_type": "execute_result",
          "data": {
            "text/plain": [
              "[24]"
            ]
          },
          "metadata": {},
          "execution_count": 16
        }
      ]
    },
    {
      "cell_type": "markdown",
      "source": [
        "### <font color='red'>9. Write a lambda function to sort a list of strings in ascending order based on the length of each string.</font>"
      ],
      "metadata": {
        "id": "25g7YBuif4Wk"
      }
    },
    {
      "cell_type": "code",
      "source": [
        "lst=[\"Name\",\"game\",\"power\",\"is\",\"not\",\"a\",\"strings\"]\n",
        "sorted(lst,key=lambda ele:len(ele))"
      ],
      "metadata": {
        "colab": {
          "base_uri": "https://localhost:8080/"
        },
        "id": "XcK7eO74gxgD",
        "outputId": "a7b3b27a-6773-4e8a-a935-504bc954581c"
      },
      "execution_count": null,
      "outputs": [
        {
          "output_type": "execute_result",
          "data": {
            "text/plain": [
              "['a', 'is', 'not', 'Name', 'game', 'power', 'strings']"
            ]
          },
          "metadata": {},
          "execution_count": 17
        }
      ]
    },
    {
      "cell_type": "markdown",
      "source": [
        "### <font color='red'>10. Create a lambda function that takes two lists as input and returns a new list containing the common elements between the two lists.</font>"
      ],
      "metadata": {
        "id": "hB1vo6ldiK4b"
      }
    },
    {
      "cell_type": "code",
      "source": [
        "a=[23,4523,52,42,34224,113,3]\n",
        "b=[32,323,12,42,43,23,113]\n",
        "\n",
        "common=lambda a,b :[i for i in a if i in b]\n",
        "\n",
        "common(a,b)"
      ],
      "metadata": {
        "colab": {
          "base_uri": "https://localhost:8080/"
        },
        "id": "DOC5y5IhidZE",
        "outputId": "28695ed0-349c-4c9a-c36e-29807cb40a26"
      },
      "execution_count": null,
      "outputs": [
        {
          "output_type": "execute_result",
          "data": {
            "text/plain": [
              "[23, 42, 113]"
            ]
          },
          "metadata": {},
          "execution_count": 21
        }
      ]
    },
    {
      "cell_type": "markdown",
      "source": [
        "### <font color='red'>11. Write a recursive function to calculate the factorial of a given positive integer.</font>"
      ],
      "metadata": {
        "id": "eZsIf5e1kER7"
      }
    },
    {
      "cell_type": "code",
      "source": [
        "def factorial(num):\n",
        "  \"\"\"calculate the factorial of a given positive integer\"\"\"\n",
        "  if num==0:\n",
        "    return 0\n",
        "  elif num==1:\n",
        "    return 1\n",
        "  else :\n",
        "    return num* factorial(num-1)"
      ],
      "metadata": {
        "id": "Z71b2MIrkPMQ"
      },
      "execution_count": null,
      "outputs": []
    },
    {
      "cell_type": "code",
      "source": [
        "factorial(5)"
      ],
      "metadata": {
        "colab": {
          "base_uri": "https://localhost:8080/"
        },
        "id": "H-Gc9-UWkUud",
        "outputId": "89f7e2e4-1de1-4010-9346-cb7ba449a333"
      },
      "execution_count": null,
      "outputs": [
        {
          "output_type": "execute_result",
          "data": {
            "text/plain": [
              "120"
            ]
          },
          "metadata": {},
          "execution_count": 24
        }
      ]
    },
    {
      "cell_type": "code",
      "source": [
        "factorial(4)"
      ],
      "metadata": {
        "colab": {
          "base_uri": "https://localhost:8080/"
        },
        "id": "6JNRwo_Pk029",
        "outputId": "65ad9791-9bab-4e5d-a915-6a67a70141e8"
      },
      "execution_count": null,
      "outputs": [
        {
          "output_type": "execute_result",
          "data": {
            "text/plain": [
              "24"
            ]
          },
          "metadata": {},
          "execution_count": 26
        }
      ]
    },
    {
      "cell_type": "markdown",
      "source": [
        "### <font color='red'>12. Implement a recursive function to compute the nth Fibonacci number.</font>"
      ],
      "metadata": {
        "id": "sDte9gZck5WS"
      }
    },
    {
      "cell_type": "code",
      "source": [
        "def fib ( num ):\n",
        "  if num==0:\n",
        "    return 0\n",
        "  elif num==1:\n",
        "    return 1\n",
        "  else :\n",
        "    return fib(num-2)+fib(num-1)"
      ],
      "metadata": {
        "id": "4VNjtcuBlChl"
      },
      "execution_count": null,
      "outputs": []
    },
    {
      "cell_type": "code",
      "source": [
        "fib(1)"
      ],
      "metadata": {
        "colab": {
          "base_uri": "https://localhost:8080/"
        },
        "id": "e0rZKXjcljL9",
        "outputId": "96c2fbee-32da-44ea-b824-821b6a456c4f"
      },
      "execution_count": null,
      "outputs": [
        {
          "output_type": "execute_result",
          "data": {
            "text/plain": [
              "1"
            ]
          },
          "metadata": {},
          "execution_count": 30
        }
      ]
    },
    {
      "cell_type": "code",
      "source": [
        "fib(2)"
      ],
      "metadata": {
        "colab": {
          "base_uri": "https://localhost:8080/"
        },
        "id": "fUKRjwKjlg7Q",
        "outputId": "983919a8-01d7-46b0-f9a6-6486deaacec9"
      },
      "execution_count": null,
      "outputs": [
        {
          "output_type": "execute_result",
          "data": {
            "text/plain": [
              "1"
            ]
          },
          "metadata": {},
          "execution_count": 29
        }
      ]
    },
    {
      "cell_type": "code",
      "source": [
        "fib(3)"
      ],
      "metadata": {
        "colab": {
          "base_uri": "https://localhost:8080/"
        },
        "id": "aD22mKMOlecZ",
        "outputId": "eff19754-a0fc-4251-fa32-da157f2aab72"
      },
      "execution_count": null,
      "outputs": [
        {
          "output_type": "execute_result",
          "data": {
            "text/plain": [
              "2"
            ]
          },
          "metadata": {},
          "execution_count": 28
        }
      ]
    },
    {
      "cell_type": "code",
      "source": [
        "fib(6)"
      ],
      "metadata": {
        "colab": {
          "base_uri": "https://localhost:8080/"
        },
        "id": "JDVfrNEZlm28",
        "outputId": "f1f55a19-742d-4ca2-b3b5-ba3735e7f0f6"
      },
      "execution_count": null,
      "outputs": [
        {
          "output_type": "execute_result",
          "data": {
            "text/plain": [
              "8"
            ]
          },
          "metadata": {},
          "execution_count": 35
        }
      ]
    },
    {
      "cell_type": "markdown",
      "source": [
        "### <font color='red'>13. Create a recursive function to find the sum of all the elements in a given list.</font>"
      ],
      "metadata": {
        "id": "SQOur59Tlz7z"
      }
    },
    {
      "cell_type": "code",
      "source": [
        "\n",
        "lst=[2,5,3,6,3,5]\n",
        "\n",
        "def total(lst):\n",
        "  \"\"\"the sum of all the elements in a given list.\"\"\"\n",
        "  if (len(lst))==0:\n",
        "    return 0\n",
        "  else:\n",
        "    return lst[0]+total(lst[1:])"
      ],
      "metadata": {
        "id": "FWV-sz2xl7Zn"
      },
      "execution_count": null,
      "outputs": []
    },
    {
      "cell_type": "code",
      "source": [
        "total(lst)"
      ],
      "metadata": {
        "colab": {
          "base_uri": "https://localhost:8080/"
        },
        "id": "tMSnlNIaoJ8t",
        "outputId": "f1a5f8ec-a7a4-4d6c-fc2a-939ac974351e"
      },
      "execution_count": null,
      "outputs": [
        {
          "output_type": "execute_result",
          "data": {
            "text/plain": [
              "24"
            ]
          },
          "metadata": {},
          "execution_count": 37
        }
      ]
    },
    {
      "cell_type": "markdown",
      "source": [
        "### <font color='red'>14. Write a recursive function to determine whether a given string is a palindrome.</font>"
      ],
      "metadata": {
        "id": "_c1nIxocoaBT"
      }
    },
    {
      "cell_type": "code",
      "source": [
        "def palindrome (s):\n",
        "  if len(s)==1:\n",
        "    return True\n",
        "  elif s[0].lower() != s[-1].lower():\n",
        "    return False\n",
        "  else:\n",
        "    return palindrome(s[1:-1])"
      ],
      "metadata": {
        "id": "B1LcDX1zofdK"
      },
      "execution_count": null,
      "outputs": []
    },
    {
      "cell_type": "code",
      "source": [
        "palindrome(\"Madam\")"
      ],
      "metadata": {
        "colab": {
          "base_uri": "https://localhost:8080/"
        },
        "id": "A1VlNiz3qGnM",
        "outputId": "1107475b-880e-4cd8-88e8-15c985cc17d0"
      },
      "execution_count": null,
      "outputs": [
        {
          "output_type": "execute_result",
          "data": {
            "text/plain": [
              "True"
            ]
          },
          "metadata": {},
          "execution_count": 46
        }
      ]
    },
    {
      "cell_type": "code",
      "source": [
        "palindrome(\"car\")"
      ],
      "metadata": {
        "colab": {
          "base_uri": "https://localhost:8080/"
        },
        "id": "8x_IohDuqcPJ",
        "outputId": "d5d629fb-64e1-47a9-e10f-0ee978bf200d"
      },
      "execution_count": null,
      "outputs": [
        {
          "output_type": "execute_result",
          "data": {
            "text/plain": [
              "False"
            ]
          },
          "metadata": {},
          "execution_count": 47
        }
      ]
    },
    {
      "cell_type": "markdown",
      "source": [
        "### <font color='red'>15. Implement a recursive function to find the greatest common divisor (GCD) of two positive integers.</font>"
      ],
      "metadata": {
        "id": "uZihjTqgqsjR"
      }
    },
    {
      "cell_type": "code",
      "source": [
        "def gcd (a,b):\n",
        "  if b==0:\n",
        "    return a\n",
        "  else :\n",
        "    return gcd(b,a%b)"
      ],
      "metadata": {
        "id": "seMPzVFaq1pH"
      },
      "execution_count": null,
      "outputs": []
    },
    {
      "cell_type": "code",
      "source": [
        "gcd (16,24)"
      ],
      "metadata": {
        "colab": {
          "base_uri": "https://localhost:8080/"
        },
        "id": "gVGJHnA3vMfp",
        "outputId": "b283925c-1707-48d1-9d9a-a3208e01fefd"
      },
      "execution_count": null,
      "outputs": [
        {
          "output_type": "execute_result",
          "data": {
            "text/plain": [
              "8"
            ]
          },
          "metadata": {},
          "execution_count": 52
        }
      ]
    },
    {
      "cell_type": "markdown",
      "source": [
        "### <font color='red'></font>"
      ],
      "metadata": {
        "id": "ywuXIRFxoWJI"
      }
    }
  ]
}
