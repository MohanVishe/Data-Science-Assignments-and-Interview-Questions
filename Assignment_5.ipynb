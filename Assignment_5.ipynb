{
  "nbformat": 4,
  "nbformat_minor": 0,
  "metadata": {
    "colab": {
      "provenance": [],
      "authorship_tag": "ABX9TyNBrHsjvwmZTRGACvTylKto",
      "include_colab_link": true
    },
    "kernelspec": {
      "name": "python3",
      "display_name": "Python 3"
    },
    "language_info": {
      "name": "python"
    }
  },
  "cells": [
    {
      "cell_type": "markdown",
      "metadata": {
        "id": "view-in-github",
        "colab_type": "text"
      },
      "source": [
        "<a href=\"https://colab.research.google.com/github/MohanVishe/Python-Basic-Assignments/blob/main/Assignment_5.ipynb\" target=\"_parent\"><img src=\"https://colab.research.google.com/assets/colab-badge.svg\" alt=\"Open In Colab\"/></a>"
      ]
    },
    {
      "cell_type": "markdown",
      "source": [
        "### <font color='red'>1. What does an empty dictionary's code look like?</font>"
      ],
      "metadata": {
        "id": "gd1ok5UrC5Sk"
      }
    },
    {
      "cell_type": "code",
      "execution_count": null,
      "metadata": {
        "id": "cKVVDhoXC1hA",
        "colab": {
          "base_uri": "https://localhost:8080/"
        },
        "outputId": "b534392e-f986-49cf-cef5-60104b1a2baa"
      },
      "outputs": [
        {
          "output_type": "execute_result",
          "data": {
            "text/plain": [
              "dict"
            ]
          },
          "metadata": {},
          "execution_count": 2
        }
      ],
      "source": [
        "a={} #two curly brackets\n",
        "type(a)"
      ]
    },
    {
      "cell_type": "code",
      "source": [
        "b=dict()\n",
        "type(b)"
      ],
      "metadata": {
        "colab": {
          "base_uri": "https://localhost:8080/"
        },
        "id": "c8_NeWcOa7lA",
        "outputId": "536adbb4-a832-42bf-93a4-bff8b9ae869f"
      },
      "execution_count": null,
      "outputs": [
        {
          "output_type": "execute_result",
          "data": {
            "text/plain": [
              "dict"
            ]
          },
          "metadata": {},
          "execution_count": 5
        }
      ]
    },
    {
      "cell_type": "markdown",
      "source": [
        "### <font color='red'>2. What is the value of a dictionary value with the key 'foo' and the value 42?</font>"
      ],
      "metadata": {
        "id": "aus3HKSrDASR"
      }
    },
    {
      "cell_type": "code",
      "source": [
        "a={}\n",
        "# {foo:42}\n",
        "a[\"foo\"]=42\n",
        "a.values()\n"
      ],
      "metadata": {
        "id": "IzP_9GDoDDln",
        "colab": {
          "base_uri": "https://localhost:8080/"
        },
        "outputId": "06ba8509-9c0a-4cb4-cea4-f288d48cf504"
      },
      "execution_count": null,
      "outputs": [
        {
          "output_type": "execute_result",
          "data": {
            "text/plain": [
              "dict_values([42])"
            ]
          },
          "metadata": {},
          "execution_count": 4
        }
      ]
    },
    {
      "cell_type": "markdown",
      "source": [
        "### <font color='red'>3. What is the most significant distinction between a dictionary and a list?</font>"
      ],
      "metadata": {
        "id": "dx67M1TKDD6z"
      }
    },
    {
      "cell_type": "code",
      "source": [
        "# List are ordered but dictionary are unordered\n",
        "# In LIST we can call elements with the help of their index \n",
        "a=[23,43,44]\n",
        "# In DICTIONARY we can call values with the help of keys\n",
        "b={1:129,3:33,54:234}"
      ],
      "metadata": {
        "id": "eDiutuHhDIT6"
      },
      "execution_count": null,
      "outputs": []
    },
    {
      "cell_type": "markdown",
      "source": [
        "### <font color='red'>4. What happens if you try to access spam['foo'] if spam is {'bar': 100}?</font>"
      ],
      "metadata": {
        "id": "7VJPC7wODItN"
      }
    },
    {
      "cell_type": "code",
      "source": [
        "# This will give key error as there is not presence of key \"foo\" in dictonary spam\n",
        "spam={\"bar\":100}\n",
        "\n",
        "spam[\"foo\"]"
      ],
      "metadata": {
        "id": "cbG8RX0ZDMhM",
        "colab": {
          "base_uri": "https://localhost:8080/",
          "height": 200
        },
        "outputId": "f6e95143-9dff-43cf-8b39-ce3e570306d5"
      },
      "execution_count": 6,
      "outputs": [
        {
          "output_type": "error",
          "ename": "KeyError",
          "evalue": "ignored",
          "traceback": [
            "\u001b[0;31m---------------------------------------------------------------------------\u001b[0m",
            "\u001b[0;31mKeyError\u001b[0m                                  Traceback (most recent call last)",
            "\u001b[0;32m<ipython-input-6-97f6b359464e>\u001b[0m in \u001b[0;36m<cell line: 4>\u001b[0;34m()\u001b[0m\n\u001b[1;32m      2\u001b[0m \u001b[0mspam\u001b[0m\u001b[0;34m=\u001b[0m\u001b[0;34m{\u001b[0m\u001b[0;34m\"bar\"\u001b[0m\u001b[0;34m:\u001b[0m\u001b[0;36m100\u001b[0m\u001b[0;34m}\u001b[0m\u001b[0;34m\u001b[0m\u001b[0;34m\u001b[0m\u001b[0m\n\u001b[1;32m      3\u001b[0m \u001b[0;34m\u001b[0m\u001b[0m\n\u001b[0;32m----> 4\u001b[0;31m \u001b[0mspam\u001b[0m\u001b[0;34m[\u001b[0m\u001b[0;34m\"foo\"\u001b[0m\u001b[0;34m]\u001b[0m\u001b[0;34m\u001b[0m\u001b[0;34m\u001b[0m\u001b[0m\n\u001b[0m",
            "\u001b[0;31mKeyError\u001b[0m: 'foo'"
          ]
        }
      ]
    },
    {
      "cell_type": "markdown",
      "source": [
        "### <font color='red'>5. If a dictionary is stored in spam, what is the difference between the expressions 'cat' in spam and 'cat' in spam.keys()?</font>"
      ],
      "metadata": {
        "id": "FFH_S_2qDMK3"
      }
    },
    {
      "cell_type": "code",
      "source": [
        "# There is no difference as both case we find if \"cat\" is present in dictionary keys \n",
        "spam={\"cat\":10,\"mat\":30,\"pet\":23}\n",
        "print(\"cat\" in spam)\n",
        "print(\"cat\" in spam.keys())"
      ],
      "metadata": {
        "id": "LYFNMdaQDRTc",
        "colab": {
          "base_uri": "https://localhost:8080/"
        },
        "outputId": "42e62ae4-e29b-490d-fba0-dcbfa0362c4a"
      },
      "execution_count": 9,
      "outputs": [
        {
          "output_type": "stream",
          "name": "stdout",
          "text": [
            "True\n",
            "True\n"
          ]
        }
      ]
    },
    {
      "cell_type": "markdown",
      "source": [
        "### <font color='red'>6. If a dictionary is stored in spam, what is the difference between the expressions 'cat' in spam and 'cat' in spam.values()?</font>"
      ],
      "metadata": {
        "id": "KaLroK6KDRsU"
      }
    },
    {
      "cell_type": "code",
      "source": [
        "# \"cat\" in spam check weather its is present in keys\n",
        "# \"cat\" in spam.values() check weather its is present in values\n",
        "spam={\"cat\":10,\"mat\":30,\"pet\":23}\n",
        "print(\"cat\" in spam)\n",
        "print(\"cat\" in spam.values())"
      ],
      "metadata": {
        "id": "CG_v21AeDVMc",
        "colab": {
          "base_uri": "https://localhost:8080/"
        },
        "outputId": "53e8981b-edc2-4a00-d32f-18e4e59c0263"
      },
      "execution_count": 10,
      "outputs": [
        {
          "output_type": "stream",
          "name": "stdout",
          "text": [
            "True\n",
            "False\n"
          ]
        }
      ]
    },
    {
      "cell_type": "markdown",
      "source": [
        "### <font color='red'>7. What is a shortcut for the following code? </font>\n",
        "\n",
        "if 'color' not in spam: \n",
        "\n",
        "spam['color'] = 'black'"
      ],
      "metadata": {
        "id": "sFZzmN4FDVbi"
      }
    },
    {
      "cell_type": "code",
      "source": [
        "spam.setdefault(\"color\",\"black\")"
      ],
      "metadata": {
        "colab": {
          "base_uri": "https://localhost:8080/",
          "height": 35
        },
        "id": "EL5w8-AIQTt5",
        "outputId": "86afa699-5b30-4a9f-d777-1df4ce01f595"
      },
      "execution_count": 16,
      "outputs": [
        {
          "output_type": "execute_result",
          "data": {
            "text/plain": [
              "'black'"
            ],
            "application/vnd.google.colaboratory.intrinsic+json": {
              "type": "string"
            }
          },
          "metadata": {},
          "execution_count": 16
        }
      ]
    },
    {
      "cell_type": "code",
      "source": [
        "# when it is not present its add\n",
        "spam"
      ],
      "metadata": {
        "colab": {
          "base_uri": "https://localhost:8080/"
        },
        "id": "X27ogktcTFgw",
        "outputId": "6515f6d3-6644-4619-abf9-381098a51e39"
      },
      "execution_count": 17,
      "outputs": [
        {
          "output_type": "execute_result",
          "data": {
            "text/plain": [
              "{'cat': 10, 'mat': 30, 'pet': 23, 'color': 'black'}"
            ]
          },
          "metadata": {},
          "execution_count": 17
        }
      ]
    },
    {
      "cell_type": "code",
      "source": [
        "spam.setdefault(\"color\",\"red\")\n",
        "# when value present it wont change\n",
        "spam"
      ],
      "metadata": {
        "colab": {
          "base_uri": "https://localhost:8080/"
        },
        "id": "qVkCHPnjTt9s",
        "outputId": "aa135226-1fb3-4526-d915-4c1eb2a76a9a"
      },
      "execution_count": 19,
      "outputs": [
        {
          "output_type": "execute_result",
          "data": {
            "text/plain": [
              "{'cat': 10, 'mat': 30, 'pet': 23, 'color': 'black'}"
            ]
          },
          "metadata": {},
          "execution_count": 19
        }
      ]
    },
    {
      "cell_type": "markdown",
      "source": [
        "### <font color='red'>8. How do you \"pretty print\" dictionary values using which module and function?</font>"
      ],
      "metadata": {
        "id": "BfGynZj3DhaQ"
      }
    },
    {
      "cell_type": "code",
      "source": [
        "import pprint # built in library\n",
        "pprint.pprint(spam,indent=8,width=10) # pprint() is the function"
      ],
      "metadata": {
        "id": "-snOeAuKDk4g",
        "colab": {
          "base_uri": "https://localhost:8080/"
        },
        "outputId": "b17905c3-5c8e-4f24-c0fd-0cd5afbaa26a"
      },
      "execution_count": 14,
      "outputs": [
        {
          "output_type": "stream",
          "name": "stdout",
          "text": [
            "{       'cat': 10,\n",
            "        'mat': 30,\n",
            "        'pet': 23}\n"
          ]
        }
      ]
    }
  ]
}