{
  "nbformat": 4,
  "nbformat_minor": 0,
  "metadata": {
    "colab": {
      "provenance": [],
      "authorship_tag": "ABX9TyNuTI3Nt2LiHyUMg/0XaKPm"
    },
    "kernelspec": {
      "name": "python3",
      "display_name": "Python 3"
    },
    "language_info": {
      "name": "python"
    }
  },
  "cells": [
    {
      "cell_type": "markdown",
      "source": [
        "### <font color='red'>1. What exactly is []?</font>"
      ],
      "metadata": {
        "id": "VxkoWa0INpO9"
      }
    },
    {
      "cell_type": "code",
      "execution_count": null,
      "metadata": {
        "id": "p32koAcNPXCU",
        "colab": {
          "base_uri": "https://localhost:8080/"
        },
        "outputId": "2af1de46-eeed-4244-97b0-8c2dc7aa5b73"
      },
      "outputs": [
        {
          "output_type": "execute_result",
          "data": {
            "text/plain": [
              "list"
            ]
          },
          "metadata": {},
          "execution_count": 3
        }
      ],
      "source": [
        "# This is an empty list\n",
        "a=[]\n",
        "type(a)"
      ]
    },
    {
      "cell_type": "markdown",
      "source": [
        "### <font color='red'>2. In a list of values stored in a variable called spam, how would you assign the value 'hello' as the third value? (Assume [2, 4, 6, 8, 10] are in spam.)</font>\n"
      ],
      "metadata": {
        "id": "yHhAH9RqNwnK"
      }
    },
    {
      "cell_type": "code",
      "source": [
        "# By using insert method\n",
        "\n",
        "a=[2,4,6,8,10]\n",
        "a.insert(2,\"hello\")\n",
        "print(a)"
      ],
      "metadata": {
        "id": "pXsTlHalN4q1",
        "colab": {
          "base_uri": "https://localhost:8080/"
        },
        "outputId": "3ee727b9-a1ea-470b-e5ed-d43ebb53239f"
      },
      "execution_count": null,
      "outputs": [
        {
          "output_type": "stream",
          "name": "stdout",
          "text": [
            "[2, 4, 'hello', 6, 8, 10]\n"
          ]
        }
      ]
    },
    {
      "cell_type": "markdown",
      "source": [
        "## Let's pretend the spam includes the list ['a', 'b', 'c', 'd'] for the next three queries.\n",
        "\n",
        "### <font color='red'>3. What is the value of spam[int(int('3' * 2) / 11)]?</font>"
      ],
      "metadata": {
        "id": "DAYm-b88N5zq"
      }
    },
    {
      "cell_type": "code",
      "source": [
        "# \"3\"*2=\"33\"\n",
        "# int(\"33\")/11=3\n",
        "# spam[int(3)]=\"d\"\n",
        "spam=[\"a\",\"b\",\"c\",\"d\"]\n",
        "spam[int(int(\"3\"*2)/11)]"
      ],
      "metadata": {
        "id": "PH0MEHeWOOsH",
        "colab": {
          "base_uri": "https://localhost:8080/",
          "height": 35
        },
        "outputId": "03d92fc2-f9a5-4b06-f08a-93426d5933fa"
      },
      "execution_count": null,
      "outputs": [
        {
          "output_type": "execute_result",
          "data": {
            "text/plain": [
              "'d'"
            ],
            "application/vnd.google.colaboratory.intrinsic+json": {
              "type": "string"
            }
          },
          "metadata": {},
          "execution_count": 8
        }
      ]
    },
    {
      "cell_type": "markdown",
      "source": [
        "### <font color='red'>4. What is the value of spam[-1]?</font>"
      ],
      "metadata": {
        "id": "RFTbD8zSOPCZ"
      }
    },
    {
      "cell_type": "code",
      "source": [
        "# spam[-1]=\"d\"\n",
        "spam[-1]"
      ],
      "metadata": {
        "id": "0gPvy7lJOVbM",
        "colab": {
          "base_uri": "https://localhost:8080/",
          "height": 35
        },
        "outputId": "073a0b71-ca7f-4c9b-a36e-70bc5980298e"
      },
      "execution_count": null,
      "outputs": [
        {
          "output_type": "execute_result",
          "data": {
            "text/plain": [
              "'d'"
            ],
            "application/vnd.google.colaboratory.intrinsic+json": {
              "type": "string"
            }
          },
          "metadata": {},
          "execution_count": 9
        }
      ]
    },
    {
      "cell_type": "markdown",
      "source": [
        "### <font color='red'>5. What is the value of spam[:2]?</font>\n",
        "\n"
      ],
      "metadata": {
        "id": "Jf_Dp3O9OVsr"
      }
    },
    {
      "cell_type": "code",
      "source": [
        "#spam[:2] = index(0,1)=[\"a\",\"b\"]\n",
        "spam[:2]"
      ],
      "metadata": {
        "id": "moWW4HsAOby9",
        "colab": {
          "base_uri": "https://localhost:8080/"
        },
        "outputId": "e189af39-945b-4328-8b35-06c078085107"
      },
      "execution_count": null,
      "outputs": [
        {
          "output_type": "execute_result",
          "data": {
            "text/plain": [
              "['a', 'b']"
            ]
          },
          "metadata": {},
          "execution_count": 10
        }
      ]
    },
    {
      "cell_type": "markdown",
      "source": [
        "## Let's pretend bacon has the list [3.14, 'cat,' 11, 'cat,' True] for the next three questions.\n",
        "\n",
        "### <font color='red'>6. What is the value of bacon.index('cat')?</font>"
      ],
      "metadata": {
        "id": "2yKIPmWqOcNP"
      }
    },
    {
      "cell_type": "code",
      "source": [
        "bacon=[3.14,\"cat\",11,\"cat\",True]\n",
        "# bacon.index(\"cat\") its shows index of 1st \"cat\" element which is 1\n",
        "bacon.index(\"cat\")"
      ],
      "metadata": {
        "id": "wOUVXBkbO_mo",
        "colab": {
          "base_uri": "https://localhost:8080/"
        },
        "outputId": "3345395a-84a6-47d1-d50e-5314448a1128"
      },
      "execution_count": null,
      "outputs": [
        {
          "output_type": "execute_result",
          "data": {
            "text/plain": [
              "1"
            ]
          },
          "metadata": {},
          "execution_count": 20
        }
      ]
    },
    {
      "cell_type": "markdown",
      "source": [
        "### <font color='red'>7. How does bacon.append(99) change the look of the list value in bacon?</font>"
      ],
      "metadata": {
        "id": "gFw4cI04PADO"
      }
    },
    {
      "cell_type": "code",
      "source": [
        "# Add element at end of the list  [3.14,\"cat\",11,\"cat\",True,99]\n",
        "\n",
        "bacon.append(99)\n",
        "bacon"
      ],
      "metadata": {
        "id": "XWBDtREUPHy1",
        "colab": {
          "base_uri": "https://localhost:8080/"
        },
        "outputId": "a4c591ad-74c1-461b-c5a3-dad47dc285a7"
      },
      "execution_count": null,
      "outputs": [
        {
          "output_type": "execute_result",
          "data": {
            "text/plain": [
              "[3.14, 'cat', 11, 'cat', True, 99]"
            ]
          },
          "metadata": {},
          "execution_count": 21
        }
      ]
    },
    {
      "cell_type": "markdown",
      "source": [
        "### <font color='red'>8. How does bacon.remove('cat') change the look of the list in bacon?</font>"
      ],
      "metadata": {
        "id": "1aZfac8lPIGR"
      }
    },
    {
      "cell_type": "code",
      "source": [
        "# This will remove the 1st \"cat\" element occured in the list\n",
        "bacon.remove('cat')\n",
        "bacon"
      ],
      "metadata": {
        "id": "iMIqbHhMPRtc",
        "colab": {
          "base_uri": "https://localhost:8080/"
        },
        "outputId": "42dd7fea-e9d9-4321-aa18-f467cbc254f8"
      },
      "execution_count": null,
      "outputs": [
        {
          "output_type": "execute_result",
          "data": {
            "text/plain": [
              "[3.14, 11, 'cat', True, 99]"
            ]
          },
          "metadata": {},
          "execution_count": 22
        }
      ]
    },
    {
      "cell_type": "markdown",
      "source": [
        "### <font color='red'>9. What are the list concatenation and list replication operators?</font>"
      ],
      "metadata": {
        "id": "2LaaeYypPSOR"
      }
    },
    {
      "cell_type": "code",
      "source": [
        "# list concatenation : (+) use for list concatenation we can add elements of 1 list to the end of another\n",
        "a=[1,4,5]\n",
        "b=[2,5,2]\n",
        "print(a+b)\n",
        "# list replication : (*) it add list elements times we have given at the end of original list\n",
        "print(a*3)"
      ],
      "metadata": {
        "id": "tp1kRknlPdJo",
        "colab": {
          "base_uri": "https://localhost:8080/"
        },
        "outputId": "ea42c64b-948d-43bc-f759-8475dbdced3d"
      },
      "execution_count": null,
      "outputs": [
        {
          "output_type": "stream",
          "name": "stdout",
          "text": [
            "[1, 4, 5, 2, 5, 2]\n",
            "[1, 4, 5, 1, 4, 5, 1, 4, 5]\n"
          ]
        }
      ]
    },
    {
      "cell_type": "markdown",
      "source": [
        "### <font color='red'>10. What is difference between the list methods append() and insert()?</font>"
      ],
      "metadata": {
        "id": "jvIfVDNOPdax"
      }
    },
    {
      "cell_type": "code",
      "source": [
        "# append() it is method in which we add element at the end of the list only\n",
        "# Only one argument is required (element)\n",
        "a=[100,10,1000]\n",
        "a.append(1)\n",
        "print(\"a=\",a)\n",
        "# insert() it is method in which we can specify location in the list where we can all elements\n",
        "# 2 arguments are required (location/index,element)\n",
        "b=[100,10,1000]\n",
        "b.insert(1,1)\n",
        "print(\"b=\",b)"
      ],
      "metadata": {
        "id": "KTevtARuPiPF",
        "colab": {
          "base_uri": "https://localhost:8080/"
        },
        "outputId": "77e8c125-f598-4493-c631-0c4241e3c3af"
      },
      "execution_count": null,
      "outputs": [
        {
          "output_type": "stream",
          "name": "stdout",
          "text": [
            "a= [100, 10, 1000, 1]\n",
            "b= [100, 1, 10, 1000]\n"
          ]
        }
      ]
    },
    {
      "cell_type": "markdown",
      "source": [
        "### <font color='red'>11. What are the two methods for removing items from a list?</font>"
      ],
      "metadata": {
        "id": "DdbCJHgjPigH"
      }
    },
    {
      "cell_type": "code",
      "source": [
        "print(dir(list))"
      ],
      "metadata": {
        "id": "KTLrwz9JPnXQ",
        "colab": {
          "base_uri": "https://localhost:8080/"
        },
        "outputId": "fd6eef17-ccb7-40c7-e2e6-50945654d07f"
      },
      "execution_count": null,
      "outputs": [
        {
          "output_type": "stream",
          "name": "stdout",
          "text": [
            "['__add__', '__class__', '__class_getitem__', '__contains__', '__delattr__', '__delitem__', '__dir__', '__doc__', '__eq__', '__format__', '__ge__', '__getattribute__', '__getitem__', '__gt__', '__hash__', '__iadd__', '__imul__', '__init__', '__init_subclass__', '__iter__', '__le__', '__len__', '__lt__', '__mul__', '__ne__', '__new__', '__reduce__', '__reduce_ex__', '__repr__', '__reversed__', '__rmul__', '__setattr__', '__setitem__', '__sizeof__', '__str__', '__subclasshook__', 'append', 'clear', 'copy', 'count', 'extend', 'index', 'insert', 'pop', 'remove', 'reverse', 'sort']\n"
          ]
        }
      ]
    },
    {
      "cell_type": "code",
      "source": [
        "# remove()\n",
        "# pop()"
      ],
      "metadata": {
        "id": "7FOgXIyHLViY"
      },
      "execution_count": null,
      "outputs": []
    },
    {
      "cell_type": "markdown",
      "source": [
        "### <font color='red'>12. Describe how list values and string values are identical.</font>"
      ],
      "metadata": {
        "id": "plAyiAKaPnE-"
      }
    },
    {
      "cell_type": "code",
      "source": [
        "# both are sequence so they both have index\n",
        "a=\"mohan\"\n",
        "b=[\"m\",\"o\",\"h\",\"a\",\"n\"]\n",
        "a[-1]"
      ],
      "metadata": {
        "id": "hwX3M4ZxPt6M",
        "colab": {
          "base_uri": "https://localhost:8080/",
          "height": 35
        },
        "outputId": "81731202-f280-43cd-bf8d-f3de15f75278"
      },
      "execution_count": null,
      "outputs": [
        {
          "output_type": "execute_result",
          "data": {
            "text/plain": [
              "'n'"
            ],
            "application/vnd.google.colaboratory.intrinsic+json": {
              "type": "string"
            }
          },
          "metadata": {},
          "execution_count": 35
        }
      ]
    },
    {
      "cell_type": "code",
      "source": [
        "b[-1]"
      ],
      "metadata": {
        "colab": {
          "base_uri": "https://localhost:8080/",
          "height": 35
        },
        "id": "kMlWirs7MHXL",
        "outputId": "66fd8995-767e-4987-9f41-07c6ee91fb54"
      },
      "execution_count": null,
      "outputs": [
        {
          "output_type": "execute_result",
          "data": {
            "text/plain": [
              "'n'"
            ],
            "application/vnd.google.colaboratory.intrinsic+json": {
              "type": "string"
            }
          },
          "metadata": {},
          "execution_count": 36
        }
      ]
    },
    {
      "cell_type": "markdown",
      "source": [
        "### <font color='red'>13. What's the difference between tuples and lists?</font>"
      ],
      "metadata": {
        "id": "gINlL0VAPtdw"
      }
    },
    {
      "cell_type": "code",
      "source": [
        "# list and tuples both are sequence but list are mutable but tuples are immutable\n",
        "# Means list can be changed after they created but tuples can't be changed when they are created"
      ],
      "metadata": {
        "id": "6PjPKmLWPypJ"
      },
      "execution_count": null,
      "outputs": []
    },
    {
      "cell_type": "markdown",
      "source": [
        "### <font color='red'>14. How do you type a tuple value that only contains the integer 42?</font>"
      ],
      "metadata": {
        "id": "xu0b7IhxPy8R"
      }
    },
    {
      "cell_type": "code",
      "source": [
        "a=tuple([42])\n",
        "a"
      ],
      "metadata": {
        "id": "NgksLdPwP2Fe",
        "colab": {
          "base_uri": "https://localhost:8080/"
        },
        "outputId": "3757318e-141e-4195-f4f9-e3b4f6a83f88"
      },
      "execution_count": null,
      "outputs": [
        {
          "output_type": "execute_result",
          "data": {
            "text/plain": [
              "(42,)"
            ]
          },
          "metadata": {},
          "execution_count": 41
        }
      ]
    },
    {
      "cell_type": "code",
      "source": [
        "b=(42,)\n",
        "b"
      ],
      "metadata": {
        "colab": {
          "base_uri": "https://localhost:8080/"
        },
        "id": "231oVriGN1sa",
        "outputId": "82d62758-c692-4d87-bbba-60ab4a1e0509"
      },
      "execution_count": null,
      "outputs": [
        {
          "output_type": "execute_result",
          "data": {
            "text/plain": [
              "(42,)"
            ]
          },
          "metadata": {},
          "execution_count": 43
        }
      ]
    },
    {
      "cell_type": "markdown",
      "source": [
        "### <font color='red'>15. How do you get a list value's tuple form? How do you get a tuple value's list form?</font>"
      ],
      "metadata": {
        "id": "ohUlUh6hP2YE"
      }
    },
    {
      "cell_type": "code",
      "source": [
        "# we can get list value in tuple form using function :    tuple()\n",
        "a=[2,35,234,4]\n",
        "tuple(a)"
      ],
      "metadata": {
        "id": "p7FiG4FiQYBR",
        "colab": {
          "base_uri": "https://localhost:8080/"
        },
        "outputId": "0c7801cf-f497-414b-d822-f1a5c78348f7"
      },
      "execution_count": null,
      "outputs": [
        {
          "output_type": "execute_result",
          "data": {
            "text/plain": [
              "(2, 35, 234, 4)"
            ]
          },
          "metadata": {},
          "execution_count": 46
        }
      ]
    },
    {
      "cell_type": "code",
      "source": [
        "# we can get tuple value in list form using fuction :    list() \n",
        "b=(33,352,524)\n",
        "list(b)"
      ],
      "metadata": {
        "colab": {
          "base_uri": "https://localhost:8080/"
        },
        "id": "xk7p5QRxORGz",
        "outputId": "2f8f1fff-29cb-4e9b-9180-b98c3b2b2577"
      },
      "execution_count": null,
      "outputs": [
        {
          "output_type": "execute_result",
          "data": {
            "text/plain": [
              "[33, 352, 524]"
            ]
          },
          "metadata": {},
          "execution_count": 47
        }
      ]
    },
    {
      "cell_type": "markdown",
      "source": [
        "### <font color='red'>16. Variables that \"contain\" list values are not necessarily lists themselves. Instead, what do they contain?</font>"
      ],
      "metadata": {
        "id": "wGk6YwmQQYV0"
      }
    },
    {
      "cell_type": "code",
      "source": [
        "# It contain reference to the list"
      ],
      "metadata": {
        "id": "p5xMBXolQdSH"
      },
      "execution_count": null,
      "outputs": []
    },
    {
      "cell_type": "markdown",
      "source": [
        "### <font color='red'>17. How do you distinguish between copy.copy() and copy.deepcopy()?</font>"
      ],
      "metadata": {
        "id": "eOLXzuqhQcu6"
      }
    },
    {
      "cell_type": "code",
      "source": [
        "# .copy() create new object copy but if we change copied object will change original object\n",
        "# copy().copy() is shallow copy"
      ],
      "metadata": {
        "id": "YvC80L-BQjoF"
      },
      "execution_count": 14,
      "outputs": []
    },
    {
      "cell_type": "code",
      "source": [
        "# .deepcopy() create new object copy but if we change copied object it won't change original object\n",
        "# copy.deepcopy() is deep copy"
      ],
      "metadata": {
        "id": "AkQVXMpcRFVe"
      },
      "execution_count": 13,
      "outputs": []
    }
  ]
}