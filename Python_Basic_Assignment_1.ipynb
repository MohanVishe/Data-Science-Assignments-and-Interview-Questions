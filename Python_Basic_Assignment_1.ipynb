{
  "nbformat": 4,
  "nbformat_minor": 0,
  "metadata": {
    "colab": {
      "provenance": [],
      "authorship_tag": "ABX9TyNx+Tm2VnrowHYngo2U7LH4",
      "include_colab_link": true
    },
    "kernelspec": {
      "name": "python3",
      "display_name": "Python 3"
    },
    "language_info": {
      "name": "python"
    }
  },
  "cells": [
    {
      "cell_type": "markdown",
      "metadata": {
        "id": "view-in-github",
        "colab_type": "text"
      },
      "source": [
        "<a href=\"https://colab.research.google.com/github/MohanVishe/Data-Science-Assignments-and-Interview-Questions/blob/main/Python_Basic_Assignment_1.ipynb\" target=\"_parent\"><img src=\"https://colab.research.google.com/assets/colab-badge.svg\" alt=\"Open In Colab\"/></a>"
      ]
    },
    {
      "cell_type": "markdown",
      "source": [
        "###   <font color='red'>1. In the below elements which of them are values or an expression? eg:- values can be integer or string and expressions will be mathematical operators.</font>"
      ],
      "metadata": {
        "id": "ksnE4u6Uj73D"
      }
    },
    {
      "cell_type": "code",
      "source": [
        "# Value :  \"hello\" , -87.8 ,6 \n",
        "# expression : * , - , / , +"
      ],
      "metadata": {
        "id": "Jxl0Fhi9lQ9V"
      },
      "execution_count": null,
      "outputs": []
    },
    {
      "cell_type": "markdown",
      "source": [
        "### <font color='red'>2. What is the difference between string and variable?</font>"
      ],
      "metadata": {
        "id": "B4qdcklRluPR"
      }
    },
    {
      "cell_type": "code",
      "source": [
        "# string are data type used for characters or text data \n",
        "# There are various data type such  as string , integer, boolean , complex number , etc\n",
        "# variables are containers which stores datatypes \n",
        "# string is data type belongs to particular class"
      ],
      "metadata": {
        "id": "Z4D1RvWmlznR"
      },
      "execution_count": null,
      "outputs": []
    },
    {
      "cell_type": "markdown",
      "source": [
        "### <font color='red'>3. Describe three different data types.</font>\n"
      ],
      "metadata": {
        "id": "3Dk3lKZqqYc3"
      }
    },
    {
      "cell_type": "code",
      "source": [
        "# 1. str (string) : used to store text data\n",
        "# 2. float : used to store decimal number\n",
        "# 3. int (integer) : used to store integer\n",
        "# 4. bool (boolean) : values (True/False)\n",
        "# 5. complex number (complex) : store complex numbers"
      ],
      "metadata": {
        "id": "aZZXYkqtrWsn"
      },
      "execution_count": null,
      "outputs": []
    },
    {
      "cell_type": "markdown",
      "source": [
        "### <font color='red'>4. What is an expression made up of? What do all expressions do?</font>"
      ],
      "metadata": {
        "id": "ce76NVterY6M"
      }
    },
    {
      "cell_type": "code",
      "source": [
        "(19-2)*6  \n",
        "# this is an example of expression which represent the values \"(operands : 19,2,6) , \"(operators:  -,*) \n",
        "# from solving expression we find evaluate(answer) means expression represent values"
      ],
      "metadata": {
        "id": "-1zTgDMirdj3"
      },
      "execution_count": null,
      "outputs": []
    },
    {
      "cell_type": "markdown",
      "source": [
        "### <font color='red'>5. This assignment statements, like spam = 10. What is the difference between an expression and a statement?</font>"
      ],
      "metadata": {
        "id": "62hiN6yV9Kxf"
      }
    },
    {
      "cell_type": "code",
      "source": [
        "# Expression is anything that is values it could be words/group of words/ symbols\\\n",
        "# so here the expression is (spam , = , 10 ) each of this represent particular values\n",
        "\n",
        "# Statement is  group of expression or expression that do particular task\n",
        "# so here  (spam=10 ) is complete statement "
      ],
      "metadata": {
        "id": "mVENGbnz9TTs"
      },
      "execution_count": null,
      "outputs": []
    },
    {
      "cell_type": "markdown",
      "source": [
        "### <font color='red'>6. After running the following code, what does the variable bacon contain? \n",
        "</font>\n",
        "bacon = 22\n",
        "\n",
        "bacon + 1"
      ],
      "metadata": {
        "id": "BDS9EPBDYGBK"
      }
    },
    {
      "cell_type": "code",
      "source": [
        "bacon = 22\n",
        "\n",
        "bacon + 1\n",
        "\n",
        "# the values will remain as it was assign only one time which is 22 "
      ],
      "metadata": {
        "colab": {
          "base_uri": "https://localhost:8080/"
        },
        "id": "WzJZGpLmYkur",
        "outputId": "73ee7da6-0c25-4204-ae03-801c6f33194c"
      },
      "execution_count": 2,
      "outputs": [
        {
          "output_type": "execute_result",
          "data": {
            "text/plain": [
              "23"
            ]
          },
          "metadata": {},
          "execution_count": 2
        }
      ]
    },
    {
      "cell_type": "code",
      "source": [
        "print(bacon)"
      ],
      "metadata": {
        "colab": {
          "base_uri": "https://localhost:8080/"
        },
        "id": "1bUK_v24YyeV",
        "outputId": "a2fcad41-7114-43c4-d21f-4b4f2ba7f4a3"
      },
      "execution_count": 3,
      "outputs": [
        {
          "output_type": "stream",
          "name": "stdout",
          "text": [
            "22\n"
          ]
        }
      ]
    },
    {
      "cell_type": "markdown",
      "source": [
        "### <font color='red'>7. What should the values of the following two terms be?</font>\n",
        "\n",
        "\n",
        "'spam' + 'spamspam'\n",
        "\n",
        " 'spam' * 3"
      ],
      "metadata": {
        "id": "zWQs0keIZY3R"
      }
    },
    {
      "cell_type": "code",
      "source": [
        "# we can add and multiply strings\n",
        "# output for both will be \n",
        "\"spamspamspam\""
      ],
      "metadata": {
        "id": "i6qbuB2Yg2fj"
      },
      "execution_count": null,
      "outputs": []
    },
    {
      "cell_type": "code",
      "source": [
        "\"spam\"+\"spamspam\"\n",
        "\"spam\"*3"
      ],
      "metadata": {
        "colab": {
          "base_uri": "https://localhost:8080/",
          "height": 35
        },
        "id": "u9xStUCDhaZ_",
        "outputId": "ed670bdf-4272-428e-df23-dd0475e7d969"
      },
      "execution_count": 5,
      "outputs": [
        {
          "output_type": "execute_result",
          "data": {
            "text/plain": [
              "'spamspamspam'"
            ],
            "application/vnd.google.colaboratory.intrinsic+json": {
              "type": "string"
            }
          },
          "metadata": {},
          "execution_count": 5
        }
      ]
    },
    {
      "cell_type": "markdown",
      "source": [
        "### <font color='red'>8. Why is eggs a valid variable name while 100 is invalid?</font>"
      ],
      "metadata": {
        "id": "RAEndrtuhqG6"
      }
    },
    {
      "cell_type": "code",
      "source": [
        "# variable is identifier so while giving names to the identifier we have to follow some rule\n",
        "# the identifier should not contain any keywords and don't start with numbers\n",
        "# eggs is not a keyword so it is valid variable\n",
        "# 100 is number and its start with number so it is invalid"
      ],
      "metadata": {
        "id": "67k76mWDhyjO"
      },
      "execution_count": null,
      "outputs": []
    },
    {
      "cell_type": "markdown",
      "source": [
        "### <font color='red'>9. What three functions can be used to get the integer, floating-point number, or string version of a value?</font>"
      ],
      "metadata": {
        "id": "mEpJgGeYjJuz"
      }
    },
    {
      "cell_type": "code",
      "source": [
        "# int(), float(), and str()\n",
        "\n",
        "a=10\n",
        "b=\"23\"\n",
        "print(type(a))\n",
        "print(type(str(a)))\n",
        "print(type(float(a)))\n",
        "print(type(int(b)))"
      ],
      "metadata": {
        "colab": {
          "base_uri": "https://localhost:8080/"
        },
        "id": "kHFI1QBajbaH",
        "outputId": "5eb505ff-1dab-404e-dd46-2f9559a6ce87"
      },
      "execution_count": 10,
      "outputs": [
        {
          "output_type": "stream",
          "name": "stdout",
          "text": [
            "<class 'int'>\n",
            "<class 'str'>\n",
            "<class 'float'>\n",
            "<class 'int'>\n"
          ]
        }
      ]
    },
    {
      "cell_type": "markdown",
      "source": [
        "### <font color='red'>10. Why does this expression cause an error? How can you fix it? </font>\n",
        "\n",
        " 'I have eaten ' + 99 + ' burritos.'"
      ],
      "metadata": {
        "id": "hyeU_iQ_kxTO"
      }
    },
    {
      "cell_type": "code",
      "source": [
        "# expression gives error because the \"I have eaten\" and \"burritos\" are strings\n",
        "# and  99 in integer so we can't add them\n",
        "# to fix this we can convert 99 into string\n",
        "\n",
        "'I have eaten ' + str(99) + ' burritos.'"
      ],
      "metadata": {
        "colab": {
          "base_uri": "https://localhost:8080/",
          "height": 35
        },
        "id": "1xuIhS0okinB",
        "outputId": "70f1fdcd-2bba-4a85-dd6c-4e53a4655c46"
      },
      "execution_count": 11,
      "outputs": [
        {
          "output_type": "execute_result",
          "data": {
            "text/plain": [
              "'I have eaten 99 burritos.'"
            ],
            "application/vnd.google.colaboratory.intrinsic+json": {
              "type": "string"
            }
          },
          "metadata": {},
          "execution_count": 11
        }
      ]
    }
  ]
}