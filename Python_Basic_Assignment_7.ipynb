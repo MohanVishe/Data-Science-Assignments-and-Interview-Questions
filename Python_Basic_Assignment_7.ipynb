{
  "nbformat": 4,
  "nbformat_minor": 0,
  "metadata": {
    "colab": {
      "provenance": [],
      "authorship_tag": "ABX9TyOFxmFSegJNLTHvAX7FWzT5",
      "include_colab_link": true
    },
    "kernelspec": {
      "name": "python3",
      "display_name": "Python 3"
    },
    "language_info": {
      "name": "python"
    }
  },
  "cells": [
    {
      "cell_type": "markdown",
      "metadata": {
        "id": "view-in-github",
        "colab_type": "text"
      },
      "source": [
        "<a href=\"https://colab.research.google.com/github/MohanVishe/Python-Basic-Assignments/blob/main/Python_Basic_Assignment_7.ipynb\" target=\"_parent\"><img src=\"https://colab.research.google.com/assets/colab-badge.svg\" alt=\"Open In Colab\"/></a>"
      ]
    },
    {
      "cell_type": "markdown",
      "source": [
        "### <font color='red'>Q.1. Create two int type variables, apply addition, subtraction, division and multiplications and store the results in variables. Then print the data in the following format by calling the variables:</font>\n",
        "\n",
        "First variable is __ & second variable is __.\n",
        "\n",
        "Addition: __ + __ = __\n",
        "\n",
        "Subtraction: __ - __ = __\n",
        "\n",
        "Multiplication: __ * __ = __\n",
        "\n",
        "Division: __ / __ = __"
      ],
      "metadata": {
        "id": "U4h5nhaU6bOk"
      }
    },
    {
      "cell_type": "code",
      "source": [
        "a=100\n",
        "b=2\n",
        "add=a+b\n",
        "sub=a-b\n",
        "mul=a*b\n",
        "div=a/b\n",
        "\n",
        "print(f\"\"\"First variable is {a} & second variable is {b}.\n",
        "\n",
        "Addition: {a} + {b} = {add}\n",
        "\n",
        "Subtraction: {a} - {b} = {sub}\n",
        "\n",
        "Multiplication: {a} * {b} = {mul}\n",
        "\n",
        "Division: {a} / {b} = {div}\"\"\")"
      ],
      "metadata": {
        "colab": {
          "base_uri": "https://localhost:8080/"
        },
        "id": "bbOohzPq6plc",
        "outputId": "6a5a79e0-2a25-44a8-9f4a-fe5843f5271a"
      },
      "execution_count": null,
      "outputs": [
        {
          "output_type": "stream",
          "name": "stdout",
          "text": [
            "First variable is 100 & second variable is 2.\n",
            "\n",
            "Addition: 100 + 2 = 102\n",
            "\n",
            "Subtraction: 100 - 2 = 98\n",
            "\n",
            "Multiplication: 100 * 2 = 200\n",
            "\n",
            "Division: 100 / 2 = 50.0\n"
          ]
        }
      ]
    },
    {
      "cell_type": "markdown",
      "source": [
        "### <font color='red'>Q.2. What is the difference between the following operators:</font>"
      ],
      "metadata": {
        "id": "coZ29r437uk4"
      }
    },
    {
      "cell_type": "code",
      "source": [
        "\"\"\" \"/\" and \"//\" \"\"\"\n",
        "# \"/\" is operator for division\n",
        "105/10\n",
        "# during division if we get decimal form division it is directly printed"
      ],
      "metadata": {
        "id": "Kmq2A6cVgxXw",
        "colab": {
          "base_uri": "https://localhost:8080/"
        },
        "outputId": "213addfc-9a68-4789-faa0-ce7fcd762b68"
      },
      "execution_count": 3,
      "outputs": [
        {
          "output_type": "execute_result",
          "data": {
            "text/plain": [
              "10.5"
            ]
          },
          "metadata": {},
          "execution_count": 3
        }
      ]
    },
    {
      "cell_type": "code",
      "source": [
        "# \"//\" this operator is called floor division\n",
        "105//10\n",
        "# during floor division if we get decimal(float) form division its converted into\n",
        "# nearest integer but it is smaller than float value."
      ],
      "metadata": {
        "colab": {
          "base_uri": "https://localhost:8080/"
        },
        "id": "-dw6HvILrw63",
        "outputId": "caf5e474-c943-4f49-dbbe-8afb709906b9"
      },
      "execution_count": 4,
      "outputs": [
        {
          "output_type": "execute_result",
          "data": {
            "text/plain": [
              "10"
            ]
          },
          "metadata": {},
          "execution_count": 4
        }
      ]
    },
    {
      "cell_type": "code",
      "source": [
        "23/5"
      ],
      "metadata": {
        "colab": {
          "base_uri": "https://localhost:8080/"
        },
        "id": "aiVEYa-hso11",
        "outputId": "4386a597-3ee0-4e59-e976-ef7e794e2d29"
      },
      "execution_count": 8,
      "outputs": [
        {
          "output_type": "execute_result",
          "data": {
            "text/plain": [
              "4.6"
            ]
          },
          "metadata": {},
          "execution_count": 8
        }
      ]
    },
    {
      "cell_type": "code",
      "source": [
        "23//5"
      ],
      "metadata": {
        "colab": {
          "base_uri": "https://localhost:8080/"
        },
        "id": "7w_bEUvlssXd",
        "outputId": "8642c181-b1c5-4997-a63f-2ffd3343fd47"
      },
      "execution_count": 7,
      "outputs": [
        {
          "output_type": "execute_result",
          "data": {
            "text/plain": [
              "4"
            ]
          },
          "metadata": {},
          "execution_count": 7
        }
      ]
    },
    {
      "cell_type": "code",
      "source": [
        "\"\"\" ** and ^ \"\"\"\n",
        "\n",
        "# \"**\" this is exponent or power of operator\n",
        "2**3 # mean two to the power of three / cube of 2\n",
        "# this is equivalent to 2*2*2\n",
        "# This is arithmatic operator"
      ],
      "metadata": {
        "colab": {
          "base_uri": "https://localhost:8080/"
        },
        "id": "1Gs97Q5rtNmb",
        "outputId": "abfd2be7-52a2-412f-88f8-9f4ae35917f4"
      },
      "execution_count": 9,
      "outputs": [
        {
          "output_type": "execute_result",
          "data": {
            "text/plain": [
              "8"
            ]
          },
          "metadata": {},
          "execution_count": 9
        }
      ]
    },
    {
      "cell_type": "code",
      "source": [
        "# \"^\" This is XOR\n",
        "# This is bitwise operator\n",
        "\n",
        "#  0 ^ 0  is 0\n",
        "# 0 ^ 1  is 1\n",
        "# 1 ^ 0  is 1\n",
        "# 1 ^ 1  is 0\n",
        "2^3 # 10 ^ 11"
      ],
      "metadata": {
        "colab": {
          "base_uri": "https://localhost:8080/"
        },
        "id": "8arCsZvqt5qr",
        "outputId": "08214505-b47b-42a2-c463-2f18304b1ede"
      },
      "execution_count": 14,
      "outputs": [
        {
          "output_type": "execute_result",
          "data": {
            "text/plain": [
              "1"
            ]
          },
          "metadata": {},
          "execution_count": 14
        }
      ]
    },
    {
      "cell_type": "markdown",
      "source": [
        "### <font color='red'>Q.3. List the logical operators.</font>"
      ],
      "metadata": {
        "id": "_GCxLHd5YYX9"
      }
    },
    {
      "cell_type": "code",
      "source": [
        "# and : if both elements are true then give true else false\n",
        "# or : if both elements are False then give false else true\n",
        "# not : if element is True then false  else true\n",
        "\n",
        "#   A       B       A and B   A or B   not A\n",
        "#  True    True     True       True     False\n",
        "#  True    False    False      True     False\n",
        "#  False   True     False      True     True\n",
        "#  False   False    False      False    True "
      ],
      "metadata": {
        "id": "9EL5N98Is6S4"
      },
      "execution_count": null,
      "outputs": []
    },
    {
      "cell_type": "markdown",
      "source": [
        "### <font color='red'>Q.4. Explain right shift operator and left shift operator with examples.</font>"
      ],
      "metadata": {
        "id": "n7H5djX_Yfbm"
      }
    },
    {
      "cell_type": "code",
      "source": [
        "\"\"\"Right Shift Operator \"\"\" #\">>\"\n",
        "# This shifts the bits of number to right by number of bits mentioned\n",
        "11 >>3  # 11 is the number whoes bits are shift right by 3 bits\n",
        "# 1011 >> 3= 1\n",
        "# Each right shift is similar to dividing number by 2"
      ],
      "metadata": {
        "colab": {
          "base_uri": "https://localhost:8080/"
        },
        "id": "0nzNgd4WwFtt",
        "outputId": "f87b3100-4ecb-4bb5-b01b-c155163c81f9"
      },
      "execution_count": 16,
      "outputs": [
        {
          "output_type": "execute_result",
          "data": {
            "text/plain": [
              "1"
            ]
          },
          "metadata": {},
          "execution_count": 16
        }
      ]
    },
    {
      "cell_type": "code",
      "source": [
        "\"\"\"Left shift Operator \"\"\" # \"<<\"\n",
        "# This shifts the bits of number to left by number of bits mentioned\n",
        "11 << 3 # 11 is  the number whoes bits are shift left by 3 bits\n",
        "# 1011 << 3 =1011000\n",
        "# Each left shift is similar to multiply number by 2"
      ],
      "metadata": {
        "colab": {
          "base_uri": "https://localhost:8080/"
        },
        "id": "ifcWAHCSzbXA",
        "outputId": "cbfd4e89-82dd-40d9-a6ae-4ab8e356261a"
      },
      "execution_count": 17,
      "outputs": [
        {
          "output_type": "execute_result",
          "data": {
            "text/plain": [
              "88"
            ]
          },
          "metadata": {},
          "execution_count": 17
        }
      ]
    },
    {
      "cell_type": "markdown",
      "source": [
        "### <font color='red'>Q.5. Create a list containing int type data of length 15. Then write a code to check if 10 is present in the list or not.</font>"
      ],
      "metadata": {
        "id": "idJ6BUuxYndp"
      }
    },
    {
      "cell_type": "code",
      "source": [
        "lst=[i for i in range (0,15)]  \n",
        "\n",
        "\n",
        "x=False\n",
        "for i in lst:\n",
        "  if i==10:\n",
        "    x=True\n",
        "    break\n",
        "if x :\n",
        "  print(\"10 is Present\")\n",
        "else :\n",
        "  print(\"10 is not present\")"
      ],
      "metadata": {
        "colab": {
          "base_uri": "https://localhost:8080/"
        },
        "id": "vUsU-jKI2AYC",
        "outputId": "be73850b-79be-4ee2-8a10-a1417e66a8bc"
      },
      "execution_count": 21,
      "outputs": [
        {
          "output_type": "stream",
          "name": "stdout",
          "text": [
            "10 is Present\n"
          ]
        }
      ]
    }
  ]
}