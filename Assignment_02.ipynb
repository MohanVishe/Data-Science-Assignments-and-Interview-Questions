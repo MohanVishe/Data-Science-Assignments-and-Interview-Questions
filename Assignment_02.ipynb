{
  "nbformat": 4,
  "nbformat_minor": 0,
  "metadata": {
    "colab": {
      "provenance": [],
      "authorship_tag": "ABX9TyO9XsZ7yKWl2j1ayypXLfHE",
      "include_colab_link": true
    },
    "kernelspec": {
      "name": "python3",
      "display_name": "Python 3"
    },
    "language_info": {
      "name": "python"
    }
  },
  "cells": [
    {
      "cell_type": "markdown",
      "metadata": {
        "id": "view-in-github",
        "colab_type": "text"
      },
      "source": [
        "<a href=\"https://colab.research.google.com/github/MohanVishe/Data-Science-Assignments-and-Interview-Questions/blob/main/Python_Basic_Assignment_2.ipynb\" target=\"_parent\"><img src=\"https://colab.research.google.com/assets/colab-badge.svg\" alt=\"Open In Colab\"/></a>"
      ]
    },
    {
      "cell_type": "markdown",
      "source": [
        "### <font color='red'>1.What are the two values of the Boolean data type? How do you write them?</font>"
      ],
      "metadata": {
        "id": "rXwyOXnQP30b"
      }
    },
    {
      "cell_type": "code",
      "source": [
        "# In boolean data type there are two values : \"True\" and \"False\"\n",
        "a= True \n",
        "b= False\n",
        "print(type(a),type(b))"
      ],
      "metadata": {
        "colab": {
          "base_uri": "https://localhost:8080/"
        },
        "id": "klllQeVLQF8Y",
        "outputId": "a4a24af4-125c-4977-9079-9f3bd0120340"
      },
      "execution_count": null,
      "outputs": [
        {
          "output_type": "stream",
          "name": "stdout",
          "text": [
            "<class 'bool'> <class 'bool'>\n"
          ]
        }
      ]
    },
    {
      "cell_type": "code",
      "source": [
        "# class bool represent boolean data types\n",
        "print(type(20==10+10))"
      ],
      "metadata": {
        "colab": {
          "base_uri": "https://localhost:8080/"
        },
        "id": "9biaUm6ERR4x",
        "outputId": "2cd9721b-9532-4109-b9b8-5bddae7ebd0d"
      },
      "execution_count": null,
      "outputs": [
        {
          "output_type": "stream",
          "name": "stdout",
          "text": [
            "<class 'bool'>\n"
          ]
        }
      ]
    },
    {
      "cell_type": "markdown",
      "source": [
        "### <font color='red'>2. What are the three different types of Boolean operators?</font>"
      ],
      "metadata": {
        "id": "xWI9iyeZWEEB"
      }
    },
    {
      "cell_type": "code",
      "source": [
        "# and : When all are true then only True else False\n",
        "# or  : When all are false then only False else True\n",
        "# not : give True for false and False for True"
      ],
      "metadata": {
        "id": "NnWjlLKIWfeI"
      },
      "execution_count": null,
      "outputs": []
    },
    {
      "cell_type": "markdown",
      "source": [
        "### <font color='red'>3. Make a list of each Boolean operator&#39;s truth tables </font>\n",
        "\n",
        "(i.e. every possible combination of Boolean\n",
        "values for the operator and what it evaluate )."
      ],
      "metadata": {
        "id": "3C46Xo-wZU_g"
      }
    },
    {
      "cell_type": "code",
      "source": [
        "#   A       B       A and B   A or B   not A\n",
        "#  True    True     True       True     False\n",
        "#  True    False    False      True     False\n",
        "#  False   True     False      True     True\n",
        "#  False   False    False      False    True "
      ],
      "metadata": {
        "id": "Gc_0ZVGaWp6d"
      },
      "execution_count": null,
      "outputs": []
    },
    {
      "cell_type": "markdown",
      "source": [
        "### <font color='red'>4. What are the values of the following expressions?</font>\n",
        "\n"
      ],
      "metadata": {
        "id": "B-BZrO1ZZwFb"
      }
    },
    {
      "cell_type": "code",
      "source": [
        "print(\"1.\",(5 > 4) and (3 == 5))  \n",
        "# True and False = False\n",
        "print(\"2.\",not(5>4))\n",
        "# not (True) = False\n",
        "print(\"3.\",(5 > 4) or (3 == 5))\n",
        "# True or False= True\n",
        "print(\"4.\", not( (5>4) or (3==5)))\n",
        "# not(True or False)= not(True)=False\n",
        "print(\"5.\",(True and True)and (True==False))\n",
        "# True and False= False\n",
        "print(\"6.\",((not False) or (not True)))\n",
        "# True or False = True"
      ],
      "metadata": {
        "colab": {
          "base_uri": "https://localhost:8080/"
        },
        "id": "389_W7dM9aAg",
        "outputId": "1020e6cd-8719-42f2-d9d6-8eff05ae6bbc"
      },
      "execution_count": null,
      "outputs": [
        {
          "output_type": "stream",
          "name": "stdout",
          "text": [
            "1. False\n",
            "2. False\n",
            "3. True\n",
            "4. False\n",
            "5. False\n",
            "6. True\n"
          ]
        }
      ]
    },
    {
      "cell_type": "markdown",
      "source": [
        "### <font color='red'>5. What are the six comparison operators?</font>"
      ],
      "metadata": {
        "id": "OLPUqZXGAO45"
      }
    },
    {
      "cell_type": "code",
      "source": [
        "# 1. Greater than (>)\n",
        "# 2. Less than (<)\n",
        "# 3. Greater than equal to (>=)\n",
        "# 4. Less than equal to (<=)\n",
        "# 5. Equal to (==)\n",
        "# 6. Not equal to (!=)"
      ],
      "metadata": {
        "id": "gqnrnIh1AjOM"
      },
      "execution_count": null,
      "outputs": []
    },
    {
      "cell_type": "markdown",
      "source": [
        "### <font color='red'>6. How do you tell the difference between the equal to and assignment operators?Describe a condition and when you would use one.</font>"
      ],
      "metadata": {
        "id": "Vf2L-YgTT6RZ"
      }
    },
    {
      "cell_type": "code",
      "source": [
        "# EQUAL TO\n",
        "# In python equal to  is represented by == sign\n",
        "# This used to compairs(if left side and right side values are same or not) two values and give boolean output  \n",
        "# when both values are same then its give True else False\n",
        "\n",
        "print(\"equal to : 12==12 : \",12==12 )\n",
        "print(\"equal to : 12==13 : \",12==13 )\n",
        "\n",
        "# ASSIGNMENT OPERATORS\n",
        "# Where python assignment operators is represented by = sign\n",
        "# This assign value of right hand side operand  to the left side operand \n",
        "# Here mainly used to assign values to variable\n",
        "a=100\n",
        "print(\"assinged variable ,a :\" ,a)\n"
      ],
      "metadata": {
        "colab": {
          "base_uri": "https://localhost:8080/"
        },
        "id": "j6d86ojP_Enr",
        "outputId": "3f7a4010-1375-4688-e34b-ef5e31a99285"
      },
      "execution_count": null,
      "outputs": [
        {
          "output_type": "stream",
          "name": "stdout",
          "text": [
            "equal to : 12==12 :  True\n",
            "equal to : 12==13 :  False\n",
            "assinged variable ,a : 100\n"
          ]
        }
      ]
    },
    {
      "cell_type": "markdown",
      "source": [
        "### <font color='red'>7. Identify the three blocks in this code:</font>"
      ],
      "metadata": {
        "id": "kVuqZTn6Bp4J"
      }
    },
    {
      "cell_type": "code",
      "source": [
        "spam = 0\n",
        "if spam == 10:\n",
        "  print(\"eggs\")\n",
        "if spam > 5:\n",
        "    print(\"bacon\")\n",
        "else:\n",
        "      print(\"ham\")\n",
        "      print(\"spam\")\n",
        "      print(\"spam\")"
      ],
      "metadata": {
        "colab": {
          "base_uri": "https://localhost:8080/"
        },
        "id": "gfQ0VXjjE0lG",
        "outputId": "30539852-72a3-4983-bb74-af8ecff40488"
      },
      "execution_count": null,
      "outputs": [
        {
          "output_type": "stream",
          "name": "stdout",
          "text": [
            "ham\n",
            "spam\n",
            "spam\n"
          ]
        }
      ]
    },
    {
      "cell_type": "code",
      "source": [
        "# 1st block is \n",
        "if spam==10:\n",
        "  print(\"eggs\")\n",
        "\n",
        "# 2nd block is \n",
        "if spam>5 :\n",
        "  print(\"bacon\")\n",
        "\n",
        "# 3rd block is \n",
        "else:\n",
        "  print(\"ham\")\n",
        "  print(\"spam\")\n",
        "  print(\"spam\")"
      ],
      "metadata": {
        "id": "zC31OkJLgIsV"
      },
      "execution_count": null,
      "outputs": []
    },
    {
      "cell_type": "markdown",
      "source": [
        "### <font color='red'>8. Write code that prints Hello if 1 is stored in spam, prints Howdy if 2 is stored in spam, and prints Greetings! if anything else is stored in spam.</font>"
      ],
      "metadata": {
        "id": "ZcL6o6sBIgby"
      }
    },
    {
      "cell_type": "code",
      "source": [
        "spam = (input(\"Enter a number : \"))\n",
        "\n",
        "if spam == \"1\" : \n",
        "  print(\"Hello\")\n",
        "elif spam == \"2\" :\n",
        "  print(\"Howdy\")\n",
        "else:\n",
        "  print(\"Greetings\")"
      ],
      "metadata": {
        "id": "AVx83GHcI-KB",
        "colab": {
          "base_uri": "https://localhost:8080/"
        },
        "outputId": "0746deaa-b703-4ca8-e0c3-c656a87af627"
      },
      "execution_count": null,
      "outputs": [
        {
          "output_type": "stream",
          "name": "stdout",
          "text": [
            "Enter a number : 434\n",
            "Greetings\n"
          ]
        }
      ]
    },
    {
      "cell_type": "markdown",
      "source": [
        "### <font color='red'>9.If your programme is stuck in an endless loop, what keys you’ll press?</font>"
      ],
      "metadata": {
        "id": "QbvedMDuiTk9"
      }
    },
    {
      "cell_type": "code",
      "source": [
        "# CTRL + C"
      ],
      "metadata": {
        "id": "GZ_5cgm9j02K"
      },
      "execution_count": null,
      "outputs": []
    },
    {
      "cell_type": "markdown",
      "source": [
        "### <font color='red'>10. How can you tell the difference between break and continue?</font>"
      ],
      "metadata": {
        "id": "r-rYVT-vkNJB"
      }
    },
    {
      "cell_type": "code",
      "source": [
        "# Break is used to terminate last loop(for or while loop) program has encountered \n",
        "# Continue ends the current iteration of loop (for or while loop) and start next iteration"
      ],
      "metadata": {
        "id": "afVv1Me3kY04"
      },
      "execution_count": null,
      "outputs": []
    },
    {
      "cell_type": "code",
      "source": [
        "print(\"Break\")\n",
        "for i in range(5):\n",
        "  if  i==3 :\n",
        "    break\n",
        "  print(i , end=\" \")\n"
      ],
      "metadata": {
        "colab": {
          "base_uri": "https://localhost:8080/"
        },
        "id": "pRCiC6OZmBlL",
        "outputId": "587bb42d-8ee8-4c17-8ae5-6c0dae05ab3f"
      },
      "execution_count": null,
      "outputs": [
        {
          "output_type": "stream",
          "name": "stdout",
          "text": [
            "Break\n",
            "0 1 2 "
          ]
        }
      ]
    },
    {
      "cell_type": "code",
      "source": [
        "print(\"continue\")\n",
        "for i in range(5):\n",
        "  if  i==3 :\n",
        "    continue\n",
        "  print(i , end=\" \")"
      ],
      "metadata": {
        "colab": {
          "base_uri": "https://localhost:8080/"
        },
        "id": "Yloo9BvcmnjR",
        "outputId": "cc5fdd47-7fae-423f-d7f6-905bf5292dab"
      },
      "execution_count": null,
      "outputs": [
        {
          "output_type": "stream",
          "name": "stdout",
          "text": [
            "continue\n",
            "0 1 2 4 "
          ]
        }
      ]
    },
    {
      "cell_type": "markdown",
      "source": [
        "### <font color='red'>11. In a for loop, what is the difference between range(10), range(0, 10), and range(0, 10, 1)?</font>"
      ],
      "metadata": {
        "id": "PJ4_FGlUnwY2"
      }
    },
    {
      "cell_type": "code",
      "source": [
        "list(range(10))"
      ],
      "metadata": {
        "colab": {
          "base_uri": "https://localhost:8080/"
        },
        "id": "VoQQYMLon3QH",
        "outputId": "cbe3b75f-5180-49a9-9b9b-41db54d7c4ff"
      },
      "execution_count": null,
      "outputs": [
        {
          "output_type": "execute_result",
          "data": {
            "text/plain": [
              "[0, 1, 2, 3, 4, 5, 6, 7, 8, 9]"
            ]
          },
          "metadata": {},
          "execution_count": 7
        }
      ]
    },
    {
      "cell_type": "code",
      "source": [
        "list(range(0,10))"
      ],
      "metadata": {
        "colab": {
          "base_uri": "https://localhost:8080/"
        },
        "id": "DPQaOtmZoKtU",
        "outputId": "7b9e815c-f63a-4275-87be-f5c66fbb9eff"
      },
      "execution_count": null,
      "outputs": [
        {
          "output_type": "execute_result",
          "data": {
            "text/plain": [
              "[0, 1, 2, 3, 4, 5, 6, 7, 8, 9]"
            ]
          },
          "metadata": {},
          "execution_count": 8
        }
      ]
    },
    {
      "cell_type": "code",
      "source": [
        "list(range(0,10,1))"
      ],
      "metadata": {
        "colab": {
          "base_uri": "https://localhost:8080/"
        },
        "id": "_NeNRndCoOjB",
        "outputId": "0274577e-3414-449b-ca44-23b9b2c549be"
      },
      "execution_count": null,
      "outputs": [
        {
          "output_type": "execute_result",
          "data": {
            "text/plain": [
              "[0, 1, 2, 3, 4, 5, 6, 7, 8, 9]"
            ]
          },
          "metadata": {},
          "execution_count": 9
        }
      ]
    },
    {
      "cell_type": "code",
      "source": [
        "# there is no difference between range(10),range(0,10) and range(0,10,1)\n",
        "# The argument 0 and 1 are default arguments with or without those values we get same output"
      ],
      "metadata": {
        "id": "dZmH4MxRoRDl"
      },
      "execution_count": null,
      "outputs": []
    },
    {
      "cell_type": "markdown",
      "source": [
        "### <font color='red'>12. Write a short program that prints the numbers 1 to 10 using a for loop. Then write an equivalent program that prints the numbers 1 to 10 using a while loop.</font>"
      ],
      "metadata": {
        "id": "3UvD66CHpQ4p"
      }
    },
    {
      "cell_type": "code",
      "source": [
        "for i in range(1,11):\n",
        "  print(i , end=\"  \" )"
      ],
      "metadata": {
        "colab": {
          "base_uri": "https://localhost:8080/"
        },
        "id": "Po2umxxppef5",
        "outputId": "403b1b49-225c-424f-c928-0e155f81ed61"
      },
      "execution_count": null,
      "outputs": [
        {
          "output_type": "stream",
          "name": "stdout",
          "text": [
            "1  2  3  4  5  6  7  8  9  10  "
          ]
        }
      ]
    },
    {
      "cell_type": "code",
      "source": [
        "i=1\n",
        "while i<11:\n",
        "  print(i,end=\"  \")\n",
        "  i+=1"
      ],
      "metadata": {
        "colab": {
          "base_uri": "https://localhost:8080/"
        },
        "id": "oFptpRk_p1pn",
        "outputId": "cd1291f4-acb3-4fe7-830b-1c797fe2807e"
      },
      "execution_count": null,
      "outputs": [
        {
          "output_type": "stream",
          "name": "stdout",
          "text": [
            "1  2  3  4  5  6  7  8  9  10  "
          ]
        }
      ]
    },
    {
      "cell_type": "markdown",
      "source": [
        "### <font color='red'>13. If you had a function named bacon() inside a module named spam, how would you call it after importing spam?</font>"
      ],
      "metadata": {
        "id": "ZAdx9NcXqI3k"
      }
    },
    {
      "cell_type": "code",
      "source": [
        "# spam.bacon()"
      ],
      "metadata": {
        "id": "DiXHFElUqO-_"
      },
      "execution_count": null,
      "outputs": []
    }
  ]
}
